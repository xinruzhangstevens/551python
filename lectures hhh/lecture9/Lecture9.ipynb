{
 "cells": [
  {
   "cell_type": "markdown",
   "metadata": {},
   "source": [
    "### Write a class with name ``Time``, and define a function with name ``printTime`` that prints hours, minutes and seconds."
   ]
  },
  {
   "cell_type": "code",
   "execution_count": 1,
   "metadata": {},
   "outputs": [
    {
     "name": "stdout",
     "output_type": "stream",
     "text": [
      "9:14:37\n"
     ]
    }
   ],
   "source": [
    "class Time(object):\n",
    "    pass\n",
    "\n",
    "def printTime(time):\n",
    "    print(str(time.hours) + \":\" +\n",
    "         str(time.minutes) + \":\" +\n",
    "         str(time.seconds))\n",
    "    \n",
    "time = Time()\n",
    "time.hours = 9\n",
    "time.minutes = 14\n",
    "time.seconds = 37\n",
    "\n",
    "printTime(time)"
   ]
  },
  {
   "cell_type": "markdown",
   "metadata": {},
   "source": [
    "### Now, make ``printTime`` a method of a class."
   ]
  },
  {
   "cell_type": "code",
   "execution_count": 2,
   "metadata": {},
   "outputs": [
    {
     "name": "stdout",
     "output_type": "stream",
     "text": [
      "9:14:37\n"
     ]
    }
   ],
   "source": [
    "class Time(object):\n",
    "    def printTime(self):\n",
    "         print(str(self.hours) + \":\" +\n",
    "         str(self.minutes) + \":\" +\n",
    "         str(self.seconds))\n",
    "\n",
    "time = Time()\n",
    "time.hours = 9\n",
    "time.minutes = 14\n",
    "time.seconds = 37\n",
    "\n",
    "time.printTime()"
   ]
  },
  {
   "cell_type": "markdown",
   "metadata": {},
   "source": [
    "### Define a method ``increment`` that takes a value in terms of seconds and increments the time."
   ]
  },
  {
   "cell_type": "code",
   "execution_count": 4,
   "metadata": {},
   "outputs": [
    {
     "name": "stdout",
     "output_type": "stream",
     "text": [
      "19:14:30\n",
      "19:14:50\n",
      "19:17:55\n"
     ]
    }
   ],
   "source": [
    "class Time(object):\n",
    "    def increment(self, seconds):\n",
    "        self.seconds += seconds\n",
    "        while self.seconds >= 60:\n",
    "            self.seconds -= 60\n",
    "            self.minutes += 1\n",
    "        while self.minutes >= 60:\n",
    "            self.minutes -= 60\n",
    "            self.hours += 1\n",
    "    def printTime(self):\n",
    "         print(str(self.hours) + \":\" +\n",
    "         str(self.minutes) + \":\" +\n",
    "         str(self.seconds))\n",
    "            \n",
    "time = Time()\n",
    "time.hours, time.minutes, time.seconds = 19, 14, 30\n",
    "time.printTime()\n",
    "\n",
    "time.increment(20)\n",
    "time.printTime()  \n",
    "\n",
    "time.increment(185)\n",
    "time.printTime() "
   ]
  },
  {
   "cell_type": "markdown",
   "metadata": {},
   "source": [
    "### Define a method ``after`` that takes another Time object and return True if current time is later than the input time."
   ]
  },
  {
   "cell_type": "code",
   "execution_count": 6,
   "metadata": {},
   "outputs": [
    {
     "name": "stdout",
     "output_type": "stream",
     "text": [
      "Current time is after earlier time True\n",
      "Current time is after later time False\n"
     ]
    }
   ],
   "source": [
    "class Time(object):\n",
    "    def increment(self, seconds):\n",
    "        self.seconds += seconds\n",
    "        while self.seconds >= 60:\n",
    "            self.seconds -= 60\n",
    "            self.minutes += 1\n",
    "        while self.minutes >= 60:\n",
    "            self.minutes -= 60\n",
    "            self.hours += 1\n",
    "    def printTime(self):\n",
    "         print(str(self.hours) + \":\" +\n",
    "         str(self.minutes) + \":\" +\n",
    "         str(self.seconds))\n",
    "    def after(self, other):\n",
    "        if self.hours > other.hours:\n",
    "            return True\n",
    "        if self.minutes > other.minutes:\n",
    "            return True\n",
    "        if self.seconds > other.seconds:\n",
    "            return True\n",
    "        return False\n",
    "    \n",
    "currentTime = Time()\n",
    "currentTime.hours, currentTime.minutes, currentTime.seconds = 9, 14, 30\n",
    "\n",
    "earlierTime = Time()\n",
    "earlierTime.hours, earlierTime.minutes, earlierTime.seconds = 9, 11, 30\n",
    "\n",
    "laterTime = Time()\n",
    "laterTime.hours, laterTime.minutes, laterTime.seconds = 9, 14, 47\n",
    "\n",
    "print(\"Current time is after earlier time\", currentTime.after(earlierTime))\n",
    "print(\"Current time is after later time\", currentTime.after(laterTime))"
   ]
  },
  {
   "cell_type": "markdown",
   "metadata": {},
   "source": [
    "### Initialize the ``Time`` class so that it takes hours, minutes and seconds and creates attributes for each. Set the detault values to 0."
   ]
  },
  {
   "cell_type": "code",
   "execution_count": 7,
   "metadata": {},
   "outputs": [
    {
     "name": "stdout",
     "output_type": "stream",
     "text": [
      "9:14:30\n"
     ]
    }
   ],
   "source": [
    "class Time(object):\n",
    "    def __init__(self, hours=0, minutes=0, seconds=0):\n",
    "        self.hours, self.minutes, self.seconds = hours, minutes, seconds\n",
    "    def increment(self, seconds):\n",
    "        self.seconds += seconds\n",
    "        while self.seconds >= 60:\n",
    "            self.seconds -= 60\n",
    "            self.minutes += 1\n",
    "        while self.minutes >= 60:\n",
    "            self.minutes -= 60\n",
    "            self.hours += 1\n",
    "    def printTime(self):\n",
    "         print(str(self.hours) + \":\" +\n",
    "         str(self.minutes) + \":\" +\n",
    "         str(self.seconds))\n",
    "    def after(self, other):\n",
    "        if self.hours > other.hours:\n",
    "            return True\n",
    "        if self.minutes > other.minutes:\n",
    "            return True\n",
    "        if self.seconds > other.seconds:\n",
    "            return True\n",
    "        return False\n",
    "\n",
    "time = Time(9, 14, 30)\n",
    "time.printTime()"
   ]
  },
  {
   "cell_type": "markdown",
   "metadata": {},
   "source": [
    "### Write a ``Point`` class that takes x and y values and overwrite the print method so that the class prints (x, y) when called. The default values are 0."
   ]
  },
  {
   "cell_type": "code",
   "execution_count": 8,
   "metadata": {},
   "outputs": [
    {
     "name": "stdout",
     "output_type": "stream",
     "text": [
      "(3,5)\n"
     ]
    }
   ],
   "source": [
    "class Point(object):\n",
    "    def __init__(self, x=0, y=0):\n",
    "        self.x = x\n",
    "        self.y = y\n",
    "    def __str__(self):\n",
    "        return \"(\" + str(self.x) + \",\" + str(self.y) + \")\"\n",
    "    \n",
    "point = Point(3, 5)\n",
    "print(point)"
   ]
  },
  {
   "cell_type": "markdown",
   "metadata": {},
   "source": [
    "### Write a method for class ``Point`` that overwrites + so that it takes another ``Point`` class and return a class whose x and y values are summation of x and y attributes of two classes, respectively."
   ]
  },
  {
   "cell_type": "code",
   "execution_count": 10,
   "metadata": {},
   "outputs": [
    {
     "name": "stdout",
     "output_type": "stream",
     "text": [
      "(17,12)\n",
      "4\n"
     ]
    }
   ],
   "source": [
    "class Point(object):\n",
    "    def __init__(self, x=0, y=0):\n",
    "        self.x = x\n",
    "        self.y = y\n",
    "    def __str__(self):\n",
    "        return \"(\" + str(self.x) + \",\" + str(self.y) + \")\"\n",
    "    def __add__(self, other):\n",
    "        return Point(self.x + other.x, self.y + other.y)\n",
    "    \n",
    "    \n",
    "p1 = Point(3, 5)\n",
    "p2 = Point(14, 7)\n",
    "\n",
    "p3 = p1 + p2\n",
    "print(p3)\n",
    "\n",
    "x = 2 + 2\n",
    "print(x)\n"
   ]
  },
  {
   "cell_type": "markdown",
   "metadata": {},
   "source": [
    "### Write a method for class ``Point`` that overwrites * operator and returns dot product of two points."
   ]
  },
  {
   "cell_type": "code",
   "execution_count": 11,
   "metadata": {},
   "outputs": [
    {
     "name": "stdout",
     "output_type": "stream",
     "text": [
      "43\n"
     ]
    }
   ],
   "source": [
    "class Point(object):\n",
    "    def __init__(self, x=0, y=0):\n",
    "        self.x = x\n",
    "        self.y = y\n",
    "    def __str__(self):\n",
    "        return \"(\" + str(self.x) + \",\" + str(self.y) + \")\"\n",
    "    def __add__(self, other):\n",
    "        return Point(self.x + other.x, self.y + other.y)\n",
    "    def __mul__(self, other):\n",
    "        return self.x * other.x + self.y * other.y\n",
    "    \n",
    "p1 = Point(3, 4)\n",
    "p2 = Point(5, 7)\n",
    "\n",
    "print(p1 * p2)\n"
   ]
  },
  {
   "cell_type": "markdown",
   "metadata": {},
   "source": [
    "## Card Objects:"
   ]
  },
  {
   "cell_type": "markdown",
   "metadata": {},
   "source": [
    "There are 52 cards in a deck, each of which belongs to one of four suits and one of 13 ranks.\n",
    "\n",
    "The suits are Spades, Hearts, Diamonds, and Clubs (in descending order in bridge).\n",
    "The ranks are Ace, 2, 3, 4, 5, 6, 7, 8, 9, 10, Jack, Queen, and King."
   ]
  },
  {
   "cell_type": "markdown",
   "metadata": {},
   "source": [
    "If we want to define a new object to represent a playing card, it should have attributes for rank and suit."
   ]
  },
  {
   "cell_type": "markdown",
   "metadata": {},
   "source": [
    "Should we use strings? Numbers?\n",
    "\n",
    "Ans: Numbers!"
   ]
  },
  {
   "cell_type": "markdown",
   "metadata": {},
   "source": [
    "Encoding:\n",
    "\n",
    "* Spades => 3\n",
    "* Hearts => 2\n",
    "* Diamonds => 1\n",
    "* Clubs => 0\n",
    "\n",
    "* Ace => 1\n",
    "* Jack => 11\n",
    "* Queen => 12\n",
    "* King => 13"
   ]
  },
  {
   "cell_type": "markdown",
   "metadata": {},
   "source": [
    "### Define a class ``Card`` that takes ``suit`` and ``rank`` as input and creates attributes for those. The default values for ``suit`` is 0 and for ``rank`` is 2."
   ]
  },
  {
   "cell_type": "code",
   "execution_count": 12,
   "metadata": {},
   "outputs": [],
   "source": [
    "class Card(object):\n",
    "    def __init__(self, suit=0, rank=2):\n",
    "        self.suit = suit\n",
    "        self.rank = rank\n",
    "        \n",
    "c1 = Card(3, 3)"
   ]
  },
  {
   "cell_type": "markdown",
   "metadata": {},
   "source": [
    "### Overwrite ``print`` method so that people can easily read the card such as: 6 of Clubs, King of Diamonds."
   ]
  },
  {
   "cell_type": "code",
   "execution_count": 18,
   "metadata": {},
   "outputs": [
    {
     "name": "stdout",
     "output_type": "stream",
     "text": [
      "Jack of Diamond\n"
     ]
    }
   ],
   "source": [
    "class Card(object):\n",
    "    suit_list = [\"Clubs\", \"Diamond\", \"Hearts\", \"Spades\"]\n",
    "    rank_list = [\"None\", \"Ace\", \"2\", \"3\", \"4\", \"5\", \"6\", \"7\", \"8\",\n",
    "                 \"9\", \"10\", \"Jack\", \"Queen\", \"King\"]\n",
    "    def __init__(self, suit=0, rank=2):\n",
    "        self.suit = suit\n",
    "        self.rank = rank\n",
    "    def __str__(self):\n",
    "        return (self.rank_list[self.rank] + \" of \" + \n",
    "               self.suit_list[self.suit])\n",
    "    \n",
    "my_card = Card(1, 11)\n",
    "print(my_card)"
   ]
  },
  {
   "cell_type": "markdown",
   "metadata": {},
   "source": [
    "### Overwrite ``__gt__`` and ``__eq__`` that compares ``self`` and ``other``. Assume ``suit`` is more important than ``rank``."
   ]
  },
  {
   "cell_type": "code",
   "execution_count": 27,
   "metadata": {},
   "outputs": [
    {
     "name": "stdout",
     "output_type": "stream",
     "text": [
      "c1 equals c2 is  False\n",
      "5 of Diamond is less than  4 of Hearts\n"
     ]
    }
   ],
   "source": [
    "class Card(object):\n",
    "    suit_list = [\"Clubs\", \"Diamond\", \"Hearts\", \"Spades\"]\n",
    "    rank_list = [\"None\", \"Ace\", \"2\", \"3\", \"4\", \"5\", \"6\", \"7\", \"8\",\n",
    "                 \"9\", \"10\", \"Jack\", \"Queen\", \"King\"]\n",
    "    def __init__(self, suit=0, rank=2):\n",
    "        self.suit = suit\n",
    "        self.rank = rank\n",
    "    def __str__(self):\n",
    "        return (self.rank_list[self.rank] + \" of \" + \n",
    "               self.suit_list[self.suit])\n",
    "    def __eq__(self, other):\n",
    "        return (self.rank == other.rank and\n",
    "                self.suit == other.suit)\n",
    "    def __gt__(self, other):\n",
    "        if self.suit > other.suit:\n",
    "            return True\n",
    "        elif self.suit == other.suit:\n",
    "            if self.rank > other.rank:\n",
    "                return True\n",
    "        return False\n",
    "    \n",
    "c1 = Card(3, 4)\n",
    "c2 = Card(3, 5)\n",
    "\n",
    "print(\"c1 equals c2 is \", c1 == c2)\n",
    "\n",
    "c1 = Card(1, 5)\n",
    "c2 = Card(2, 4)\n",
    "\n",
    "if c1 > c2:\n",
    "    print(c1.__str__() + \" is greater than \", c2.__str__())\n",
    "elif c1 == c2:\n",
    "    print(c1.__str__() + \" is equal \", c2.__str__())\n",
    "else:\n",
    "    print(c1.__str__() + \" is less than \", c2.__str__())"
   ]
  },
  {
   "cell_type": "markdown",
   "metadata": {},
   "source": [
    "### Define a class ``Deck`` that has the attribute cards and the initialization generates 52 cards."
   ]
  },
  {
   "cell_type": "code",
   "execution_count": 28,
   "metadata": {},
   "outputs": [
    {
     "name": "stdout",
     "output_type": "stream",
     "text": [
      "Number of cards in deck is  52\n"
     ]
    }
   ],
   "source": [
    "class Deck(object):\n",
    "    def __init__(self):\n",
    "        self.cards = []\n",
    "        for suit in range(4):\n",
    "            for rank in range(1, 14):\n",
    "                self.cards.append(Card(suit, rank))\n",
    "                \n",
    "d = Deck()\n",
    "print(\"Number of cards in deck is \", len(d.cards))"
   ]
  },
  {
   "cell_type": "markdown",
   "metadata": {},
   "source": [
    "### Overwrite ``print`` method to print the contents of the deck so that each card is indented one space more than the previous card."
   ]
  },
  {
   "cell_type": "code",
   "execution_count": 29,
   "metadata": {},
   "outputs": [
    {
     "name": "stdout",
     "output_type": "stream",
     "text": [
      "Ace of Clubs\n",
      " 2 of Clubs\n",
      "  3 of Clubs\n",
      "   4 of Clubs\n",
      "    5 of Clubs\n",
      "     6 of Clubs\n",
      "      7 of Clubs\n",
      "       8 of Clubs\n",
      "        9 of Clubs\n",
      "         10 of Clubs\n",
      "          Jack of Clubs\n",
      "           Queen of Clubs\n",
      "            King of Clubs\n",
      "             Ace of Diamond\n",
      "              2 of Diamond\n",
      "               3 of Diamond\n",
      "                4 of Diamond\n",
      "                 5 of Diamond\n",
      "                  6 of Diamond\n",
      "                   7 of Diamond\n",
      "                    8 of Diamond\n",
      "                     9 of Diamond\n",
      "                      10 of Diamond\n",
      "                       Jack of Diamond\n",
      "                        Queen of Diamond\n",
      "                         King of Diamond\n",
      "                          Ace of Hearts\n",
      "                           2 of Hearts\n",
      "                            3 of Hearts\n",
      "                             4 of Hearts\n",
      "                              5 of Hearts\n",
      "                               6 of Hearts\n",
      "                                7 of Hearts\n",
      "                                 8 of Hearts\n",
      "                                  9 of Hearts\n",
      "                                   10 of Hearts\n",
      "                                    Jack of Hearts\n",
      "                                     Queen of Hearts\n",
      "                                      King of Hearts\n",
      "                                       Ace of Spades\n",
      "                                        2 of Spades\n",
      "                                         3 of Spades\n",
      "                                          4 of Spades\n",
      "                                           5 of Spades\n",
      "                                            6 of Spades\n",
      "                                             7 of Spades\n",
      "                                              8 of Spades\n",
      "                                               9 of Spades\n",
      "                                                10 of Spades\n",
      "                                                 Jack of Spades\n",
      "                                                  Queen of Spades\n",
      "                                                   King of Spades\n",
      "\n"
     ]
    }
   ],
   "source": [
    "class Deck(object):\n",
    "    def __init__(self):\n",
    "        self.cards = []\n",
    "        for suit in range(4):\n",
    "            for rank in range(1, 14):\n",
    "                self.cards.append(Card(suit, rank))\n",
    "    def __str__(self):\n",
    "        s = \"\"\n",
    "        for i in range(len(self.cards)):\n",
    "            s += i * \" \" + str(self.cards[i]) + \"\\n\"\n",
    "        return s\n",
    "    \n",
    "d = Deck()\n",
    "print(d)"
   ]
  },
  {
   "cell_type": "markdown",
   "metadata": {},
   "source": [
    "### Write a method ``shuffle`` that shuffles the cards in a deck. You can use ``randrange`` from ``random`` module."
   ]
  },
  {
   "cell_type": "code",
   "execution_count": 32,
   "metadata": {},
   "outputs": [
    {
     "data": {
      "text/plain": [
       "4"
      ]
     },
     "execution_count": 32,
     "metadata": {},
     "output_type": "execute_result"
    }
   ],
   "source": [
    "import random\n",
    "\n",
    "random.randrange(3, 5)"
   ]
  },
  {
   "cell_type": "code",
   "execution_count": 33,
   "metadata": {},
   "outputs": [
    {
     "name": "stdout",
     "output_type": "stream",
     "text": [
      "3 of Diamond\n",
      " 9 of Diamond\n",
      "  8 of Hearts\n",
      "   8 of Diamond\n",
      "    Ace of Diamond\n",
      "     5 of Diamond\n",
      "      5 of Hearts\n",
      "       4 of Spades\n",
      "        5 of Spades\n",
      "         8 of Spades\n",
      "          Jack of Hearts\n",
      "           Jack of Diamond\n",
      "            2 of Hearts\n",
      "             Jack of Spades\n",
      "              King of Hearts\n",
      "               3 of Hearts\n",
      "                7 of Clubs\n",
      "                 8 of Clubs\n",
      "                  7 of Hearts\n",
      "                   Jack of Clubs\n",
      "                    9 of Spades\n",
      "                     2 of Spades\n",
      "                      Ace of Hearts\n",
      "                       5 of Clubs\n",
      "                        6 of Hearts\n",
      "                         6 of Spades\n",
      "                          Queen of Diamond\n",
      "                           6 of Clubs\n",
      "                            4 of Hearts\n",
      "                             2 of Diamond\n",
      "                              9 of Clubs\n",
      "                               Ace of Clubs\n",
      "                                10 of Diamond\n",
      "                                 10 of Spades\n",
      "                                  4 of Diamond\n",
      "                                   3 of Spades\n",
      "                                    10 of Hearts\n",
      "                                     3 of Clubs\n",
      "                                      10 of Clubs\n",
      "                                       9 of Hearts\n",
      "                                        King of Diamond\n",
      "                                         6 of Diamond\n",
      "                                          7 of Diamond\n",
      "                                           Queen of Clubs\n",
      "                                            Queen of Spades\n",
      "                                             7 of Spades\n",
      "                                              King of Spades\n",
      "                                               King of Clubs\n",
      "                                                4 of Clubs\n",
      "                                                 2 of Clubs\n",
      "                                                  Ace of Spades\n",
      "                                                   Queen of Hearts\n",
      "\n"
     ]
    }
   ],
   "source": [
    "import random\n",
    "\n",
    "class Deck(object):\n",
    "    def __init__(self):\n",
    "        self.cards = []\n",
    "        for suit in range(4):\n",
    "            for rank in range(1, 14):\n",
    "                self.cards.append(Card(suit, rank))\n",
    "    def __str__(self):\n",
    "        s = \"\"\n",
    "        for i in range(len(self.cards)):\n",
    "            s += i * \" \" + str(self.cards[i]) + \"\\n\"\n",
    "        return s\n",
    "    def shuffle(self):\n",
    "        n_cards = len(self.cards)\n",
    "        for i in range(n_cards):\n",
    "            j = random.randrange(0, n_cards)\n",
    "            self.cards[i], self.cards[j] = self.cards[j], self.cards[i]\n",
    "            \n",
    "d = Deck()\n",
    "d.shuffle()\n",
    "print(d)"
   ]
  },
  {
   "cell_type": "markdown",
   "metadata": {},
   "source": [
    "### Write method ``pop_card`` that removes the last card in the deck."
   ]
  },
  {
   "cell_type": "code",
   "execution_count": 36,
   "metadata": {},
   "outputs": [],
   "source": [
    "class Deck(object):\n",
    "    def __init__(self):\n",
    "        self.cards = []\n",
    "        for suit in range(4):\n",
    "            for rank in range(1, 14):\n",
    "                self.cards.append(Card(suit, rank))\n",
    "    def __str__(self):\n",
    "        s = \"\"\n",
    "        for i in range(len(self.cards)):\n",
    "            s += i * \" \" + str(self.cards[i]) + \"\\n\"\n",
    "        return s\n",
    "    def shuffle(self):\n",
    "        n_cards = len(self.cards)\n",
    "        for i in range(n_cards):\n",
    "            j = random.randrange(0, n_cards)\n",
    "            self.cards[i], self.cards[j] = self.cards[j], self.cards[i]\n",
    "            \n",
    "    def pop_card():\n",
    "        return self.cards.pop()"
   ]
  },
  {
   "cell_type": "code",
   "execution_count": 34,
   "metadata": {},
   "outputs": [
    {
     "data": {
      "text/plain": [
       "3"
      ]
     },
     "execution_count": 34,
     "metadata": {},
     "output_type": "execute_result"
    }
   ],
   "source": [
    "l = [1, 2, 3]\n",
    "l.pop()"
   ]
  },
  {
   "cell_type": "code",
   "execution_count": 35,
   "metadata": {},
   "outputs": [
    {
     "data": {
      "text/plain": [
       "[1, 2]"
      ]
     },
     "execution_count": 35,
     "metadata": {},
     "output_type": "execute_result"
    }
   ],
   "source": [
    "l"
   ]
  },
  {
   "cell_type": "markdown",
   "metadata": {},
   "source": [
    "### Write a method ``is_empty`` which returns True if the deck contains no cards."
   ]
  },
  {
   "cell_type": "code",
   "execution_count": 38,
   "metadata": {},
   "outputs": [],
   "source": [
    "class Deck(object):\n",
    "    def __init__(self):\n",
    "        self.cards = []\n",
    "        for suit in range(4):\n",
    "            for rank in range(1, 14):\n",
    "                self.cards.append(Card(suit, rank))\n",
    "    def __str__(self):\n",
    "        s = \"\"\n",
    "        for i in range(len(self.cards)):\n",
    "            s += i * \" \" + str(self.cards[i]) + \"\\n\"\n",
    "        return s\n",
    "    def shuffle(self):\n",
    "        n_cards = len(self.cards)\n",
    "        for i in range(n_cards):\n",
    "            j = random.randrange(0, n_cards)\n",
    "            self.cards[i], self.cards[j] = self.cards[j], self.cards[i]            \n",
    "    def pop_card(self):\n",
    "        return self.cards.pop()\n",
    "    def is_empty(self):\n",
    "        return len(self.cards) == 0\n",
    "    "
   ]
  },
  {
   "cell_type": "markdown",
   "metadata": {},
   "source": [
    "### Write a class for hand that is similar to a deck but we might want to perform operations for hand that don't make sense for deck."
   ]
  },
  {
   "cell_type": "code",
   "execution_count": 39,
   "metadata": {},
   "outputs": [],
   "source": [
    "class Hand(Deck):\n",
    "    pass"
   ]
  },
  {
   "cell_type": "markdown",
   "metadata": {},
   "source": [
    "### Initialize the ``Hand`` with cards and names where name will be an input and default value is \"\"."
   ]
  },
  {
   "cell_type": "code",
   "execution_count": 40,
   "metadata": {},
   "outputs": [],
   "source": [
    "class Hand(Deck):\n",
    "    def __init__(self, name=\"\"):\n",
    "        self.cards = []\n",
    "        self.name = name"
   ]
  },
  {
   "cell_type": "markdown",
   "metadata": {},
   "source": [
    "### Write a method ``add_card`` that adds a card to the Hand."
   ]
  },
  {
   "cell_type": "code",
   "execution_count": 41,
   "metadata": {},
   "outputs": [],
   "source": [
    "class Hand(Deck):\n",
    "    def __init__(self, name=\"\"):\n",
    "        self.cards = []\n",
    "        self.name = name\n",
    "    def add_card(self, card):\n",
    "        self.cards.append(card)"
   ]
  },
  {
   "cell_type": "markdown",
   "metadata": {},
   "source": [
    "### Write a method for ``Deck`` class that deals the card into hands. It takes two arguments: hands and number of cards."
   ]
  },
  {
   "cell_type": "code",
   "execution_count": 42,
   "metadata": {},
   "outputs": [],
   "source": [
    "class Deck(object):\n",
    "    def __init__(self):\n",
    "        self.cards = []\n",
    "        for suit in range(4):\n",
    "            for rank in range(1, 14):\n",
    "                self.cards.append(Card(suit, rank))\n",
    "    def __str__(self):\n",
    "        s = \"\"\n",
    "        for i in range(len(self.cards)):\n",
    "            s += i * \" \" + str(self.cards[i]) + \"\\n\"\n",
    "        return s\n",
    "    def shuffle(self):\n",
    "        n_cards = len(self.cards)\n",
    "        for i in range(n_cards):\n",
    "            j = random.randrange(0, n_cards)\n",
    "            self.cards[i], self.cards[j] = self.cards[j], self.cards[i]            \n",
    "    def pop_card(self):\n",
    "        return self.cards.pop()\n",
    "    def is_empty(self):\n",
    "        return len(self.cards) == 0\n",
    "    def deal(self, hands, n_cards=52):\n",
    "        n_players = len(hands)\n",
    "        for i in range(n_cards):\n",
    "            if self.is_empty(): \n",
    "                break\n",
    "            card = self.pop_card()\n",
    "            current_player = i % n_players\n",
    "            hands[current_player].add_card(card)"
   ]
  },
  {
   "cell_type": "markdown",
   "metadata": {},
   "source": [
    "### Write a method for ``Hand`` that prints the hand such that \"Hand John contains ...\" or \"Hand John is empty\""
   ]
  },
  {
   "cell_type": "code",
   "execution_count": 45,
   "metadata": {},
   "outputs": [
    {
     "name": "stdout",
     "output_type": "stream",
     "text": [
      "Hand John contains \n",
      "8 of Spades\n",
      " King of Spades\n",
      "  10 of Spades\n",
      "   Jack of Diamond\n",
      "    5 of Diamond\n",
      "     6 of Spades\n",
      "      6 of Diamond\n",
      "       Ace of Hearts\n",
      "        3 of Clubs\n",
      "         2 of Diamond\n",
      "\n"
     ]
    }
   ],
   "source": [
    "class Hand(Deck):\n",
    "    def __init__(self, name=\"\"):\n",
    "        self.cards = []\n",
    "        self.name = name\n",
    "    def add_card(self, card):\n",
    "        self.cards.append(card)\n",
    "    def __str__(self):\n",
    "        s = \"Hand \" + self.name\n",
    "        if self.is_empty():\n",
    "            return s + \" is empty\"\n",
    "        s += \" contains \\n\" + Deck.__str__(self)\n",
    "        return s\n",
    "        \n",
    "d = Deck()\n",
    "d.shuffle()\n",
    "hand = Hand(\"John\")\n",
    "hands = [hand]\n",
    "d.deal(hands, 10)\n",
    "print(hand)       "
   ]
  },
  {
   "cell_type": "markdown",
   "metadata": {},
   "source": [
    "### Write a ``CardGame`` class that creates a deck and shuffles it automatically."
   ]
  },
  {
   "cell_type": "code",
   "execution_count": 47,
   "metadata": {},
   "outputs": [],
   "source": [
    "class CardGame(object):\n",
    "    def __init__(self):\n",
    "        self.deck = Deck()\n",
    "        self.deck.shuffle()"
   ]
  },
  {
   "cell_type": "markdown",
   "metadata": {},
   "source": [
    "## Old Maid Hand Game"
   ]
  },
  {
   "cell_type": "markdown",
   "metadata": {},
   "source": [
    "https://www.youtube.com/watch?v=2k1pHpGPMdc"
   ]
  },
  {
   "cell_type": "markdown",
   "metadata": {},
   "source": [
    "![alt text](../figures/cards.png)"
   ]
  },
  {
   "cell_type": "markdown",
   "metadata": {},
   "source": [
    "The object of Old Maid is to get rid of cards in your hand. You do this by matching cards by rank and color. For example, the 4 of Clubs matches the 4 of Spades since both suits are black. The Jack of Hearts matches the Jack of Diamonds since both are red.\n",
    "\n",
    "To begin the game, the Queen of Clubs is removed from the deck so that the Queen of Spades has no match. The fifty-one remaining cards are dealt to the players in a round robin. After the deal, all players match and discard as many cards as possible."
   ]
  },
  {
   "cell_type": "markdown",
   "metadata": {},
   "source": [
    "### Define ``OldMaidHand`` class that requires some abilities beyond the general abilities of a Hand. Write a method called ``remove_matches`` and returns the number of matches."
   ]
  },
  {
   "cell_type": "code",
   "execution_count": 49,
   "metadata": {},
   "outputs": [],
   "source": [
    "class OldMaidHand(Hand):\n",
    "    def remove_matches(self):\n",
    "        original_cards = self.cards[:]\n",
    "        count = 0\n",
    "        for card in original_cards:\n",
    "            match = Card(3-card.suit, card.rank)\n",
    "            if match in self.cards:\n",
    "                self.cards.remove(card)\n",
    "                self.cards.remove(match)\n",
    "                count += 1\n",
    "                print(\"Hand %s: %s matches %s\" \n",
    "                     % (self.name, card, match))\n",
    "        return count                "
   ]
  },
  {
   "cell_type": "markdown",
   "metadata": {},
   "source": [
    "### Demonstrate how to start a game and remove matches."
   ]
  },
  {
   "cell_type": "code",
   "execution_count": 52,
   "metadata": {},
   "outputs": [
    {
     "name": "stdout",
     "output_type": "stream",
     "text": [
      "Hand Sue contains \n",
      "5 of Diamond\n",
      " 10 of Hearts\n",
      "  Queen of Hearts\n",
      "   Ace of Spades\n",
      "    King of Diamond\n",
      "     5 of Clubs\n",
      "      Jack of Spades\n",
      "       Queen of Spades\n",
      "        7 of Hearts\n",
      "         2 of Spades\n",
      "          9 of Spades\n",
      "           5 of Spades\n",
      "            7 of Clubs\n",
      "             3 of Hearts\n",
      "              6 of Hearts\n",
      "\n",
      "=========\n",
      "Hand Sue: 5 of Clubs matches 5 of Spades\n"
     ]
    },
    {
     "data": {
      "text/plain": [
       "1"
      ]
     },
     "execution_count": 52,
     "metadata": {},
     "output_type": "execute_result"
    }
   ],
   "source": [
    "random.seed(10003)\n",
    "game = CardGame()\n",
    "hand = OldMaidHand(\"Sue\")\n",
    "hands = [hand]\n",
    "game.deck.deal(hands, 15)\n",
    "print(hand)\n",
    "print(\"=========\")\n",
    "hand.remove_matches()"
   ]
  },
  {
   "cell_type": "markdown",
   "metadata": {},
   "source": [
    "### Write a class ``OldMaidGame`` that inherits ``CardGame`` and has a method that removes all the matches in all hands. You can assume the class has ``self.hands`` attribute."
   ]
  },
  {
   "cell_type": "code",
   "execution_count": 53,
   "metadata": {},
   "outputs": [],
   "source": [
    "class OldMaidGame(CardGame):\n",
    "    def remove_all_matches(self):\n",
    "        count = 0\n",
    "        for hand in self.hands:\n",
    "            count += hand.remove_matches()\n",
    "        return count"
   ]
  },
  {
   "cell_type": "markdown",
   "metadata": {},
   "source": [
    "### Write a method ``find_neighbor`` that takes turn as an integer input and returns the index for the neighbor index."
   ]
  },
  {
   "cell_type": "code",
   "execution_count": 54,
   "metadata": {},
   "outputs": [],
   "source": [
    "class OldMaidGame(CardGame):\n",
    "    def remove_all_matches(self):\n",
    "        count = 0\n",
    "        for hand in self.hands:\n",
    "            count += hand.remove_matches()\n",
    "        return count\n",
    "    def find_neighbor(self, turn):\n",
    "        n_hands = len(self.hands)\n",
    "        for next_val in range(1, n_hands):\n",
    "            neighbor = (turn + next_val)%n_hands\n",
    "            if not self.hands[neighbor].is_empty():\n",
    "                return neighbor"
   ]
  },
  {
   "cell_type": "markdown",
   "metadata": {},
   "source": [
    "### Write a method ``play_one_turn`` that takes an argument ``turn`` that indicates whose turn it is. The return value is the number of matches made during this turn."
   ]
  },
  {
   "cell_type": "code",
   "execution_count": 55,
   "metadata": {},
   "outputs": [],
   "source": [
    "class OldMaidGame(CardGame):\n",
    "    def remove_all_matches(self):\n",
    "        count = 0\n",
    "        for hand in self.hands:\n",
    "            count += hand.remove_matches()\n",
    "        return count\n",
    "    def find_neighbor(self, turn):\n",
    "        n_hands = len(self.hands)\n",
    "        for next_val in range(1, n_hands):\n",
    "            neighbor = (turn + next_val)%n_hands\n",
    "            if not self.hands[neighbor].is_empty():\n",
    "                return neighbor\n",
    "    def play_one_turn(self, turn):\n",
    "        if self.hands[turn].is_empty():\n",
    "            return 0\n",
    "        neighbor = self.find_neighbor(turn)\n",
    "        picked_card = self.hands[neighbor].pop_card()\n",
    "        self.hands[turn].add_card(picked_card)\n",
    "        print(\"Hand \", self.hands[turn].name, \"picked\", picked_card)\n",
    "        count = self.hands[turn].remove_matches()\n",
    "        self.hands[turn].shuffle()\n",
    "        return count"
   ]
  },
  {
   "cell_type": "markdown",
   "metadata": {},
   "source": [
    "### Write a method ``print_hands`` to print hands of all players."
   ]
  },
  {
   "cell_type": "code",
   "execution_count": 56,
   "metadata": {},
   "outputs": [],
   "source": [
    "class OldMaidGame(CardGame):\n",
    "    def remove_all_matches(self):\n",
    "        count = 0\n",
    "        for hand in self.hands:\n",
    "            count += hand.remove_matches()\n",
    "        return count\n",
    "    def find_neighbor(self, turn):\n",
    "        n_hands = len(self.hands)\n",
    "        for next_val in range(1, n_hands):\n",
    "            neighbor = (turn + next_val)%n_hands\n",
    "            if not self.hands[neighbor].is_empty():\n",
    "                return neighbor\n",
    "    def play_one_turn(self, turn):\n",
    "        if self.hands[turn].is_empty():\n",
    "            return 0\n",
    "        neighbor = self.find_neighbor(turn)\n",
    "        picked_card = self.hands[neighbor].pop_card()\n",
    "        self.hands[turn].add_card(picked_card)\n",
    "        print(\"Hand \", self.hands[turn].name, \"picked\", picked_card)\n",
    "        count = self.hands[turn].remove_matches()\n",
    "        self.hands[turn].shuffle()\n",
    "        return count\n",
    "    def print_hands(self):\n",
    "        for hand in self.hands:\n",
    "            print(hand)"
   ]
  },
  {
   "cell_type": "markdown",
   "metadata": {},
   "source": [
    "### Write a method ``play`` that takes a list of names as an input; \n",
    "* removes Queen of Clubs, \n",
    "* makes a hand for each player\n",
    "* deals the cards; print \"cards have been dealt\"\n",
    "* prints hands\n",
    "* removes initial matches\n",
    "* prints hands\n",
    "* play until all 50 cards are matched\n",
    "* prints hands"
   ]
  },
  {
   "cell_type": "code",
   "execution_count": 57,
   "metadata": {},
   "outputs": [],
   "source": [
    "class OldMaidGame(CardGame):\n",
    "    def remove_all_matches(self):\n",
    "        count = 0\n",
    "        for hand in self.hands:\n",
    "            count += hand.remove_matches()\n",
    "        return count\n",
    "    def find_neighbor(self, turn):\n",
    "        n_hands = len(self.hands)\n",
    "        for next_val in range(1, n_hands):\n",
    "            neighbor = (turn + next_val)%n_hands\n",
    "            if not self.hands[neighbor].is_empty():\n",
    "                return neighbor\n",
    "    def play_one_turn(self, turn):\n",
    "        if self.hands[turn].is_empty():\n",
    "            return 0\n",
    "        neighbor = self.find_neighbor(turn)\n",
    "        picked_card = self.hands[neighbor].pop_card()\n",
    "        self.hands[turn].add_card(picked_card)\n",
    "        print(\"Hand\", self.hands[turn].name, \"picked\", picked_card)\n",
    "        count = self.hands[turn].remove_matches()\n",
    "        self.hands[turn].shuffle()\n",
    "        return count\n",
    "    def print_hands(self):\n",
    "        for hand in self.hands:\n",
    "            print(hand)\n",
    "    def play(self, names):\n",
    "        self.deck.cards.remove(Card(0, 12))\n",
    "        self.hands = []\n",
    "        for name in names:\n",
    "            hand = OldMaidHand(name)\n",
    "            self.hands.append(hand)\n",
    "        self.deck.deal(self.hands, 51)\n",
    "        print(\"Cards have been dealt\")\n",
    "        self.print_hands()\n",
    "        matches = self.remove_all_matches()\n",
    "        print(\"Matches removed, play begins\")\n",
    "        self.print_hands()\n",
    "        turn = 0\n",
    "        while matches < 25:\n",
    "            matches += self.play_one_turn(turn)\n",
    "            turn = (turn + 1) % len(self.hands)\n",
    "            \n",
    "        print(\"======Game is over======\")\n",
    "        self.print_hands()"
   ]
  },
  {
   "cell_type": "code",
   "execution_count": 58,
   "metadata": {},
   "outputs": [
    {
     "name": "stdout",
     "output_type": "stream",
     "text": [
      "Cards have been dealt\n",
      "Hand Sue contains \n",
      "King of Hearts\n",
      " 6 of Diamond\n",
      "  6 of Hearts\n",
      "   8 of Clubs\n",
      "    5 of Spades\n",
      "     4 of Spades\n",
      "      10 of Hearts\n",
      "       2 of Spades\n",
      "        Jack of Hearts\n",
      "         8 of Hearts\n",
      "          9 of Hearts\n",
      "           3 of Diamond\n",
      "            Jack of Diamond\n",
      "             Queen of Diamond\n",
      "              Ace of Clubs\n",
      "               7 of Spades\n",
      "                Ace of Spades\n",
      "\n",
      "Hand John contains \n",
      "3 of Hearts\n",
      " 4 of Hearts\n",
      "  4 of Diamond\n",
      "   7 of Diamond\n",
      "    2 of Clubs\n",
      "     6 of Clubs\n",
      "      Ace of Diamond\n",
      "       5 of Clubs\n",
      "        9 of Diamond\n",
      "         King of Spades\n",
      "          7 of Clubs\n",
      "           8 of Diamond\n",
      "            7 of Hearts\n",
      "             10 of Diamond\n",
      "              3 of Spades\n",
      "               Jack of Clubs\n",
      "                2 of Hearts\n",
      "\n",
      "Hand Tom contains \n",
      "Queen of Hearts\n",
      " 10 of Spades\n",
      "  3 of Clubs\n",
      "   King of Diamond\n",
      "    5 of Hearts\n",
      "     6 of Spades\n",
      "      9 of Clubs\n",
      "       2 of Diamond\n",
      "        4 of Clubs\n",
      "         9 of Spades\n",
      "          King of Clubs\n",
      "           Jack of Spades\n",
      "            Queen of Spades\n",
      "             10 of Clubs\n",
      "              5 of Diamond\n",
      "               Ace of Hearts\n",
      "                8 of Spades\n",
      "\n",
      "Hand Sue: 6 of Diamond matches 6 of Hearts\n",
      "Hand Sue: Jack of Hearts matches Jack of Diamond\n",
      "Hand Sue: Ace of Clubs matches Ace of Spades\n",
      "Hand John: 4 of Hearts matches 4 of Diamond\n",
      "Hand John: 7 of Diamond matches 7 of Hearts\n",
      "Hand Tom: 10 of Spades matches 10 of Clubs\n",
      "Hand Tom: 5 of Hearts matches 5 of Diamond\n",
      "Hand Tom: 9 of Clubs matches 9 of Spades\n",
      "Matches removed, play begins\n",
      "Hand Sue contains \n",
      "King of Hearts\n",
      " 8 of Clubs\n",
      "  5 of Spades\n",
      "   4 of Spades\n",
      "    10 of Hearts\n",
      "     2 of Spades\n",
      "      8 of Hearts\n",
      "       9 of Hearts\n",
      "        3 of Diamond\n",
      "         Queen of Diamond\n",
      "          7 of Spades\n",
      "\n",
      "Hand John contains \n",
      "3 of Hearts\n",
      " 2 of Clubs\n",
      "  6 of Clubs\n",
      "   Ace of Diamond\n",
      "    5 of Clubs\n",
      "     9 of Diamond\n",
      "      King of Spades\n",
      "       7 of Clubs\n",
      "        8 of Diamond\n",
      "         10 of Diamond\n",
      "          3 of Spades\n",
      "           Jack of Clubs\n",
      "            2 of Hearts\n",
      "\n",
      "Hand Tom contains \n",
      "Queen of Hearts\n",
      " 3 of Clubs\n",
      "  King of Diamond\n",
      "   6 of Spades\n",
      "    2 of Diamond\n",
      "     4 of Clubs\n",
      "      King of Clubs\n",
      "       Jack of Spades\n",
      "        Queen of Spades\n",
      "         Ace of Hearts\n",
      "          8 of Spades\n",
      "\n",
      "Hand Sue picked 2 of Hearts\n",
      "Hand John picked 8 of Spades\n",
      "Hand Tom picked 10 of Hearts\n",
      "Hand Sue picked Ace of Diamond\n",
      "Hand John picked 6 of Spades\n",
      "Hand John: 6 of Clubs matches 6 of Spades\n",
      "Hand Tom picked Ace of Diamond\n",
      "Hand Tom: Ace of Hearts matches Ace of Diamond\n",
      "Hand Sue picked 10 of Diamond\n",
      "Hand John picked 10 of Hearts\n",
      "Hand Tom picked 5 of Spades\n",
      "Hand Sue picked Jack of Clubs\n",
      "Hand John picked Queen of Hearts\n",
      "Hand Tom picked Queen of Diamond\n",
      "Hand Sue picked 10 of Hearts\n",
      "Hand Sue: 10 of Diamond matches 10 of Hearts\n",
      "Hand John picked King of Clubs\n",
      "Hand John: King of Spades matches King of Clubs\n",
      "Hand Tom picked 8 of Clubs\n",
      "Hand Sue picked Queen of Hearts\n",
      "Hand John picked Jack of Spades\n",
      "Hand Tom picked Queen of Hearts\n",
      "Hand Tom: Queen of Diamond matches Queen of Hearts\n",
      "Hand Sue picked 3 of Spades\n",
      "Hand John picked 2 of Diamond\n",
      "Hand Tom picked 2 of Hearts\n",
      "Hand Sue picked Jack of Spades\n",
      "Hand Sue: Jack of Clubs matches Jack of Spades\n",
      "Hand John picked Queen of Spades\n",
      "Hand Tom picked 2 of Spades\n",
      "Hand Sue picked 3 of Hearts\n",
      "Hand Sue: 3 of Diamond matches 3 of Hearts\n",
      "Hand John picked 3 of Clubs\n",
      "Hand Tom picked 4 of Spades\n",
      "Hand Tom: 4 of Clubs matches 4 of Spades\n",
      "Hand Sue picked Queen of Spades\n",
      "Hand John picked King of Diamond\n",
      "Hand Tom picked King of Hearts\n",
      "Hand Sue picked 2 of Clubs\n",
      "Hand John picked 2 of Spades\n",
      "Hand Tom picked 8 of Hearts\n",
      "Hand Sue picked King of Diamond\n",
      "Hand John picked 8 of Hearts\n",
      "Hand John: 8 of Diamond matches 8 of Hearts\n",
      "Hand Tom picked 3 of Spades\n",
      "Hand Sue picked 2 of Spades\n",
      "Hand Sue: 2 of Clubs matches 2 of Spades\n",
      "Hand John picked 3 of Spades\n",
      "Hand John: 3 of Clubs matches 3 of Spades\n",
      "Hand Tom picked 7 of Spades\n",
      "Hand Sue picked 9 of Diamond\n",
      "Hand Sue: 9 of Hearts matches 9 of Diamond\n",
      "Hand John picked 5 of Spades\n",
      "Hand John: 5 of Clubs matches 5 of Spades\n",
      "Hand Tom picked King of Diamond\n",
      "Hand Tom: King of Hearts matches King of Diamond\n",
      "Hand Sue picked 8 of Spades\n",
      "Hand John picked 2 of Hearts\n",
      "Hand John: 2 of Diamond matches 2 of Hearts\n",
      "Hand Tom picked Queen of Spades\n",
      "Hand Sue picked 7 of Clubs\n",
      "Hand Tom picked 7 of Clubs\n",
      "Hand Tom: 7 of Spades matches 7 of Clubs\n",
      "Hand Sue picked 8 of Clubs\n",
      "Hand Sue: 8 of Spades matches 8 of Clubs\n",
      "======Game is over======\n",
      "Hand Sue is empty\n",
      "Hand John is empty\n",
      "Hand Tom contains \n",
      "Queen of Spades\n",
      "\n"
     ]
    }
   ],
   "source": [
    "g = OldMaidGame()\n",
    "names = [\"Sue\", \"John\", \"Tom\"]\n",
    "g.play(names)"
   ]
  },
  {
   "cell_type": "code",
   "execution_count": null,
   "metadata": {},
   "outputs": [],
   "source": []
  }
 ],
 "metadata": {
  "kernelspec": {
   "display_name": "Python 3",
   "language": "python",
   "name": "python3"
  },
  "language_info": {
   "codemirror_mode": {
    "name": "ipython",
    "version": 3
   },
   "file_extension": ".py",
   "mimetype": "text/x-python",
   "name": "python",
   "nbconvert_exporter": "python",
   "pygments_lexer": "ipython3",
   "version": "3.7.0"
  }
 },
 "nbformat": 4,
 "nbformat_minor": 2
}
