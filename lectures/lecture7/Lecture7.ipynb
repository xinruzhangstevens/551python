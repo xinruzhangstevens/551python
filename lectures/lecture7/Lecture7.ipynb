{
 "cells": [
  {
   "cell_type": "markdown",
   "metadata": {},
   "source": [
    "# The Benchmarking Interlude"
   ]
  },
  {
   "cell_type": "markdown",
   "metadata": {},
   "source": [
    "To get the total time taken to run multiple calls to a function with arbitrary positional arguments, the following first- cut function might suffice:"
   ]
  },
  {
   "cell_type": "raw",
   "metadata": {},
   "source": [
    "# File timer0.py\n",
    "import time\n",
    "def timer(func, *args):  # Simplistic timing function\n",
    "    start = time.time()\n",
    "    for i in range(1000):\n",
    "        func(*args)\n",
    "    return time.time() - start  # Total elapsed time in seconds"
   ]
  },
  {
   "cell_type": "code",
   "execution_count": null,
   "metadata": {},
   "outputs": [],
   "source": [
    "from timer0 import timer"
   ]
  },
  {
   "cell_type": "code",
   "execution_count": null,
   "metadata": {},
   "outputs": [],
   "source": [
    "timer(pow, 2, 4) # Time to call pow(2, 4) 1000 times"
   ]
  },
  {
   "cell_type": "code",
   "execution_count": null,
   "metadata": {},
   "outputs": [],
   "source": [
    "pow?"
   ]
  },
  {
   "cell_type": "code",
   "execution_count": null,
   "metadata": {},
   "outputs": [],
   "source": [
    "timer(str.upper, 'spam') # Time to call 'spam'.upper() 1000 times"
   ]
  },
  {
   "cell_type": "markdown",
   "metadata": {},
   "source": [
    "Though simple, this timer is also fairly limited, and deliberately exhibits some classic mistakes in both function design and benchmarking. Among these, it:\n",
    "\n",
    "* Doesn’t support keyword arguments in the tested function call\n",
    "* Hardcodes the repetitions count\n",
    "* Only gives total time, which might fluctuate on some heavily loaded machines"
   ]
  },
  {
   "cell_type": "raw",
   "metadata": {},
   "source": [
    "# File timer.py\n",
    "\"\"\"\n",
    "Homegrown timing tools for function calls.\n",
    "Does total time, best-of time, and best-of-totals time \n",
    "\"\"\"\n",
    "import time, sys\n",
    "timer = time.clock if sys.platform[:3] == 'win' else time.time\n",
    "\n",
    "def total(reps, func, *pargs, **kargs): \n",
    "    \"\"\"\n",
    "    Total time to run func() reps times. Returns (total time, last result) \n",
    "    \"\"\"\n",
    "    repslist = list(range(reps))\n",
    "    start = timer() \n",
    "    for i in repslist:\n",
    "        ret = func(*pargs, **kargs) \n",
    "    elapsed = timer() - start \n",
    "    return (elapsed, ret)\n",
    "\n",
    "def bestof(reps, func, *pargs, **kargs):\n",
    "    \"\"\"\n",
    "    Quickest func() among reps runs. \n",
    "    Returns (best time, last result) \n",
    "    \"\"\"\n",
    "    best = 2 ** 32\n",
    "    for i in range(reps):\n",
    "        start = timer()\n",
    "        ret = func(*pargs, **kargs)\n",
    "        elapsed = timer() - start\n",
    "        if elapsed < best: \n",
    "            best = elapsed\n",
    "    return (best, ret)\n",
    "\n",
    "def bestoftotal(reps1, reps2, func, *pargs, **kargs):\n",
    "    \"\"\"\n",
    "    Best of totals:\n",
    "    (best of reps1 runs of (total of reps2 runs of func))\n",
    "    \"\"\"\n",
    "    return bestof(reps1, total, reps2, func, *pargs, **kargs)\n"
   ]
  },
  {
   "cell_type": "code",
   "execution_count": null,
   "metadata": {},
   "outputs": [],
   "source": [
    "import timer"
   ]
  },
  {
   "cell_type": "code",
   "execution_count": null,
   "metadata": {},
   "outputs": [],
   "source": [
    "timer.total(1000, pow, 2, 1000)"
   ]
  },
  {
   "cell_type": "code",
   "execution_count": null,
   "metadata": {},
   "outputs": [],
   "source": [
    "timer.total(1000, str.upper, 'spam')"
   ]
  },
  {
   "cell_type": "code",
   "execution_count": null,
   "metadata": {},
   "outputs": [],
   "source": [
    "timer.bestof(1000, str.upper, 'spam')"
   ]
  },
  {
   "cell_type": "code",
   "execution_count": null,
   "metadata": {},
   "outputs": [],
   "source": [
    "timer.bestof(1000, pow, 2, 1000000)[0]"
   ]
  },
  {
   "cell_type": "code",
   "execution_count": null,
   "metadata": {},
   "outputs": [],
   "source": [
    "timer.bestof(50, timer.total, 1000, str.upper, 'spam')"
   ]
  },
  {
   "cell_type": "code",
   "execution_count": null,
   "metadata": {},
   "outputs": [],
   "source": [
    "timer.bestoftotal(50, 1000, str.upper, 'spam')"
   ]
  },
  {
   "cell_type": "markdown",
   "metadata": {},
   "source": [
    "### timeit module"
   ]
  },
  {
   "cell_type": "code",
   "execution_count": null,
   "metadata": {},
   "outputs": [],
   "source": [
    "import timeit"
   ]
  },
  {
   "cell_type": "code",
   "execution_count": null,
   "metadata": {},
   "outputs": [],
   "source": [
    "timeit.repeat?"
   ]
  },
  {
   "cell_type": "code",
   "execution_count": null,
   "metadata": {},
   "outputs": [],
   "source": [
    "min(timeit.repeat(stmt=\"[x ** 2 for x in range(1000)]\", number=100, repeat=5))"
   ]
  },
  {
   "cell_type": "code",
   "execution_count": null,
   "metadata": {},
   "outputs": [],
   "source": [
    "timeit.timeit(stmt='[x ** 2 for x in range(1000)]', number=1000) # Total time"
   ]
  },
  {
   "cell_type": "code",
   "execution_count": null,
   "metadata": {},
   "outputs": [],
   "source": [
    "def testcase():\n",
    "    y = [x ** 2 for x in range(1000)] # Callable objects or code strings"
   ]
  },
  {
   "cell_type": "code",
   "execution_count": null,
   "metadata": {},
   "outputs": [],
   "source": [
    "min(timeit.repeat(stmt=testcase, number=1000, repeat=3))"
   ]
  },
  {
   "cell_type": "markdown",
   "metadata": {},
   "source": [
    "# Modules: The Big Picture"
   ]
  },
  {
   "cell_type": "markdown",
   "metadata": {},
   "source": [
    "In concrete terms, modules typically correspond to Python program files. Each file is a module, and modules import other modules to use the names they define."
   ]
  },
  {
   "cell_type": "markdown",
   "metadata": {},
   "source": [
    "**import**:\n",
    "Lets a client (importer) fetch a module as a whole\n",
    "\n",
    "**from**:\n",
    "Allows clients to fetch particular names from a module\n",
    "\n",
    "**imp.reload**:\n",
    "Provides a way to reload a module’s code without stopping Python"
   ]
  },
  {
   "cell_type": "markdown",
   "metadata": {},
   "source": [
    "### Why Use Modules?"
   ]
  },
  {
   "cell_type": "markdown",
   "metadata": {},
   "source": [
    "In short, modules provide an easy way to organize components into a system by serving as self-contained packages of variables known as namespaces. "
   ]
  },
  {
   "cell_type": "markdown",
   "metadata": {},
   "source": [
    "More specifically, modules have at least three roles\n",
    "\n",
    "* Code reuse\n",
    "\n",
    "* System namespace partitioning\n",
    "\n",
    "* Implementing shared services or data"
   ]
  },
  {
   "cell_type": "markdown",
   "metadata": {},
   "source": [
    "### Python Program Architecture"
   ]
  },
  {
   "cell_type": "markdown",
   "metadata": {},
   "source": [
    "In practice, programs usually involve more than just one file. Python fosters a modular program structure that groups functionality into coherent and reusable units."
   ]
  },
  {
   "cell_type": "markdown",
   "metadata": {},
   "source": [
    "Below figure sketches the structure of a Python program composed of three files: a.py, b.py, and c.py. The file a.py is chosen to be the top-level file; it will be a simple text file of statements, which is executed from top to bottom when launched. The files b.py and c.py are modules; they are simple text files of statements as well, but they are not usually launched directly. Instead, modules are normally imported by other files that wish to use the tools the modules define."
   ]
  },
  {
   "cell_type": "markdown",
   "metadata": {},
   "source": [
    "![alt text](./figures/python_architecture.png)"
   ]
  },
  {
   "cell_type": "raw",
   "metadata": {},
   "source": [
    "def spam(text): # File b.py \n",
    "    print(text, 'spam')"
   ]
  },
  {
   "cell_type": "raw",
   "metadata": {},
   "source": [
    "import b # File a.py\n",
    "b.spam('gumby') # Prints \"gumby spam\""
   ]
  },
  {
   "cell_type": "markdown",
   "metadata": {},
   "source": [
    "In Python, imports are really runtime operations that perform three distinct steps the first time a program imports a given file:\n",
    "\n",
    "1. Find the module’s file.\n",
    "\n",
    "2. Compile it to byte code (if needed).\n",
    "\n",
    "3. Run the module’s code to build the objects it defines."
   ]
  },
  {
   "cell_type": "markdown",
   "metadata": {},
   "source": [
    "### The Module Search Path"
   ]
  },
  {
   "cell_type": "markdown",
   "metadata": {},
   "source": [
    "If you want to be able to import userdefined files across directory boundaries, though, you will need to know how the search path works in order to customize it."
   ]
  },
  {
   "cell_type": "markdown",
   "metadata": {},
   "source": [
    "Roughly, Python’s module search path is composed of the concatenation of these major components, some of which are preset for you and some of which you can tailor to tell Python where to look:"
   ]
  },
  {
   "cell_type": "markdown",
   "metadata": {},
   "source": [
    "1. The home directory of the program\n",
    "2. PYTHONPATH directories (if set)\n",
    "3. Standard library directories\n",
    "4. The contents of any .pth files (if present)\n",
    "5. The site-packages home of third-party extensions"
   ]
  },
  {
   "cell_type": "markdown",
   "metadata": {},
   "source": [
    "The first and third elements of the search path are defined automatically. Because Python searches the concatenation of these components from first to last, though, the second and fourth elements can be used to extend the path to include your own source code directories. "
   ]
  },
  {
   "cell_type": "markdown",
   "metadata": {},
   "source": [
    "If you want to see how the module search path is truly configured on your machine, you can always inspect the path as Python knows it by printing the built-in ``sys.path``."
   ]
  },
  {
   "cell_type": "code",
   "execution_count": null,
   "metadata": {},
   "outputs": [],
   "source": [
    "import sys\n",
    "print(sys.path)"
   ]
  },
  {
   "cell_type": "markdown",
   "metadata": {},
   "source": [
    "Keep in mind that filename extensions (e.g., .py) are omitted from import statements intentionally. Python chooses the first file it can find on the search path that matches the imported name. In fact, imports are the point of interface to a host of external components—source code, multiple flavors of byte code, compiled extensions, and more. Python automatically selects any type that matches a module’s name."
   ]
  },
  {
   "cell_type": "markdown",
   "metadata": {},
   "source": [
    "# Module Coding Basics"
   ]
  },
  {
   "cell_type": "markdown",
   "metadata": {},
   "source": [
    "**Module Creation:** To define a module, simply use your text editor to type some Python code into a text file, and save it with a “.py” extension; any such file is automatically considered a Python module. "
   ]
  },
  {
   "cell_type": "markdown",
   "metadata": {},
   "source": [
    "**Module File names:** should end in a .py suffix if you plan to import them. "
   ]
  },
  {
   "cell_type": "raw",
   "metadata": {},
   "source": [
    "# module1.py\n",
    "def printer(x):\n",
    "    print(x)"
   ]
  },
  {
   "cell_type": "markdown",
   "metadata": {},
   "source": [
    "**The import statement:**"
   ]
  },
  {
   "cell_type": "code",
   "execution_count": null,
   "metadata": {},
   "outputs": [],
   "source": [
    "import module1  # Get module as a whole (one or more)\n",
    "module1.printer('Hello world!') # Qualify to get names"
   ]
  },
  {
   "cell_type": "markdown",
   "metadata": {},
   "source": [
    "**The from statement:**"
   ]
  },
  {
   "cell_type": "code",
   "execution_count": null,
   "metadata": {
    "scrolled": true
   },
   "outputs": [],
   "source": [
    "from module1 import printer  # copy out a variable (one or more)\n",
    "printer('Hello world!')"
   ]
  },
  {
   "cell_type": "markdown",
   "metadata": {},
   "source": [
    "**The from * Statement:**"
   ]
  },
  {
   "cell_type": "code",
   "execution_count": 1,
   "metadata": {},
   "outputs": [
    {
     "name": "stdout",
     "output_type": "stream",
     "text": [
      "5 6 7\n",
      "Hello world!\n"
     ]
    }
   ],
   "source": [
    "from module1 import *  # copy out all variables\n",
    "printer('Hello world!')"
   ]
  },
  {
   "cell_type": "code",
   "execution_count": 2,
   "metadata": {},
   "outputs": [
    {
     "data": {
      "text/plain": [
       "5"
      ]
     },
     "execution_count": 2,
     "metadata": {},
     "output_type": "execute_result"
    }
   ],
   "source": [
    "A"
   ]
  },
  {
   "cell_type": "code",
   "execution_count": 3,
   "metadata": {},
   "outputs": [
    {
     "data": {
      "text/plain": [
       "6"
      ]
     },
     "execution_count": 3,
     "metadata": {},
     "output_type": "execute_result"
    }
   ],
   "source": [
    "B"
   ]
  },
  {
   "cell_type": "code",
   "execution_count": 4,
   "metadata": {},
   "outputs": [
    {
     "ename": "NameError",
     "evalue": "name 'module1' is not defined",
     "output_type": "error",
     "traceback": [
      "\u001b[0;31m---------------------------------------------------------------------------\u001b[0m",
      "\u001b[0;31mNameError\u001b[0m                                 Traceback (most recent call last)",
      "\u001b[0;32m<ipython-input-4-3c94605a96fe>\u001b[0m in \u001b[0;36m<module>\u001b[0;34m()\u001b[0m\n\u001b[0;32m----> 1\u001b[0;31m \u001b[0mmodule1\u001b[0m\u001b[0;34m.\u001b[0m\u001b[0mA\u001b[0m\u001b[0;34m\u001b[0m\u001b[0m\n\u001b[0m",
      "\u001b[0;31mNameError\u001b[0m: name 'module1' is not defined"
     ]
    }
   ],
   "source": [
    "module1.A"
   ]
  },
  {
   "cell_type": "markdown",
   "metadata": {},
   "source": [
    "**Imports Happen Only Once**"
   ]
  },
  {
   "cell_type": "raw",
   "metadata": {},
   "source": [
    "# simple.py\n",
    "print('hello')\n",
    "spam = 1  # initialize variable"
   ]
  },
  {
   "cell_type": "code",
   "execution_count": 5,
   "metadata": {},
   "outputs": [
    {
     "name": "stdout",
     "output_type": "stream",
     "text": [
      "hello\n"
     ]
    }
   ],
   "source": [
    "import simple # First import: loads and runs file's code"
   ]
  },
  {
   "cell_type": "code",
   "execution_count": 6,
   "metadata": {},
   "outputs": [
    {
     "data": {
      "text/plain": [
       "1"
      ]
     },
     "execution_count": 6,
     "metadata": {},
     "output_type": "execute_result"
    }
   ],
   "source": [
    "simple.spam # Assignment makes an attribute"
   ]
  },
  {
   "cell_type": "markdown",
   "metadata": {},
   "source": [
    "Second and later imports don’t rerun the module’s code; they just fetch the already created module object from Python’s internal modules table. Thus, the variable spam is not reinitialized:"
   ]
  },
  {
   "cell_type": "code",
   "execution_count": 7,
   "metadata": {},
   "outputs": [],
   "source": [
    "simple.spam = 2  # change attribute in module"
   ]
  },
  {
   "cell_type": "code",
   "execution_count": 8,
   "metadata": {},
   "outputs": [],
   "source": [
    "import simple  # just fetches already loaded module"
   ]
  },
  {
   "cell_type": "code",
   "execution_count": 9,
   "metadata": {},
   "outputs": [
    {
     "data": {
      "text/plain": [
       "2"
      ]
     },
     "execution_count": 9,
     "metadata": {},
     "output_type": "execute_result"
    }
   ],
   "source": [
    "simple.spam # code wasn't rerun: attribute unchanged"
   ]
  },
  {
   "cell_type": "markdown",
   "metadata": {},
   "source": [
    "**Changing mutables in modules**"
   ]
  },
  {
   "cell_type": "raw",
   "metadata": {},
   "source": [
    "# small.py\n",
    "x = 1\n",
    "y = [1, 2]"
   ]
  },
  {
   "cell_type": "code",
   "execution_count": 10,
   "metadata": {},
   "outputs": [],
   "source": [
    "from small import x, y  # Copy two names out\n",
    "x = 42                  # changes local x only\n",
    "y[0] = 42               # changes shared mutable in place"
   ]
  },
  {
   "cell_type": "markdown",
   "metadata": {},
   "source": [
    "Here, x is not a shared mutable object, but y is. The names y in the importer and the importee both reference the same list object, so changing it from one place changes it in the other:"
   ]
  },
  {
   "cell_type": "code",
   "execution_count": 11,
   "metadata": {},
   "outputs": [
    {
     "data": {
      "text/plain": [
       "1"
      ]
     },
     "execution_count": 11,
     "metadata": {},
     "output_type": "execute_result"
    }
   ],
   "source": [
    "import small    # Get module name\n",
    "small.x  # Small's x is not my x"
   ]
  },
  {
   "cell_type": "code",
   "execution_count": 12,
   "metadata": {},
   "outputs": [
    {
     "data": {
      "text/plain": [
       "[42, 2]"
      ]
     },
     "execution_count": 12,
     "metadata": {},
     "output_type": "execute_result"
    }
   ],
   "source": [
    "small.y # But we share a changed mutable"
   ]
  },
  {
   "cell_type": "markdown",
   "metadata": {},
   "source": [
    "**import and from Equivalence**"
   ]
  },
  {
   "cell_type": "raw",
   "metadata": {},
   "source": [
    "from module import name1, name2 # Copy these two names out only"
   ]
  },
  {
   "cell_type": "markdown",
   "metadata": {},
   "source": [
    "is equivalent to this staement sequence:"
   ]
  },
  {
   "cell_type": "raw",
   "metadata": {},
   "source": [
    "import module # Fetch the module object\n",
    "name1 = module.name1 # Copy names out by assignment\n",
    "name2 = module.name2\n",
    "del module # Get rid of the module name"
   ]
  },
  {
   "cell_type": "markdown",
   "metadata": {},
   "source": [
    "**When import is required**"
   ]
  },
  {
   "cell_type": "raw",
   "metadata": {},
   "source": [
    "# M.py\n",
    "def func():\n",
    "    print(\"func of M\")\n",
    "    \n",
    "# N.py\n",
    "def func():\n",
    "    print(\"func of N\")"
   ]
  },
  {
   "cell_type": "markdown",
   "metadata": {},
   "source": [
    "the from statement will fail - you can only have one assignment to the name in your scope:"
   ]
  },
  {
   "cell_type": "raw",
   "metadata": {},
   "source": [
    "# O.py\n",
    "from M import func\n",
    "from N import func  # This overwrites the one we fetched from M\n",
    "func()               # Calls N.func only!"
   ]
  },
  {
   "cell_type": "markdown",
   "metadata": {},
   "source": [
    "An import will work here, though, because including the name of the enclosing module makes the two names unique:"
   ]
  },
  {
   "cell_type": "code",
   "execution_count": 13,
   "metadata": {},
   "outputs": [
    {
     "name": "stdout",
     "output_type": "stream",
     "text": [
      "func of M\n",
      "func of N\n"
     ]
    }
   ],
   "source": [
    "# O.py\n",
    "import M  # Get the whole modules, not their names\n",
    "import N\n",
    "M.func()     # We can call both names now\n",
    "N.func()     # The module names make them unique"
   ]
  },
  {
   "cell_type": "markdown",
   "metadata": {},
   "source": [
    "Another way out of this dilemma is using the as extension:"
   ]
  },
  {
   "cell_type": "code",
   "execution_count": 14,
   "metadata": {},
   "outputs": [
    {
     "name": "stdout",
     "output_type": "stream",
     "text": [
      "func of M\n",
      "func of N\n"
     ]
    }
   ],
   "source": [
    "from M import func as mfunc   # Rename uniquely with 'as'\n",
    "from N import func as nfunc\n",
    "mfunc(); nfunc()             # Calls one or the other"
   ]
  },
  {
   "cell_type": "markdown",
   "metadata": {},
   "source": [
    "**Module Namespaces**"
   ]
  },
  {
   "cell_type": "raw",
   "metadata": {},
   "source": [
    "# module2.py\n",
    "\n",
    "print('starting to load...')\n",
    "import sys\n",
    "name = 42\n",
    "\n",
    "def func(): pass\n",
    "\n",
    "class klass: pass\n",
    "\n",
    "print('done loading.')"
   ]
  },
  {
   "cell_type": "code",
   "execution_count": 15,
   "metadata": {},
   "outputs": [
    {
     "name": "stdout",
     "output_type": "stream",
     "text": [
      "starting to load...\n",
      "done loading.\n"
     ]
    }
   ],
   "source": [
    "import module2"
   ]
  },
  {
   "cell_type": "markdown",
   "metadata": {},
   "source": [
    "The first time this module is imported (or run as a program), Python executes its statements from top to bottom."
   ]
  },
  {
   "cell_type": "code",
   "execution_count": 16,
   "metadata": {},
   "outputs": [],
   "source": [
    "import module2"
   ]
  },
  {
   "cell_type": "markdown",
   "metadata": {},
   "source": [
    "Once the module is loaded, its scope becomes an attribute namespace in the module object we get back from ``import``. "
   ]
  },
  {
   "cell_type": "code",
   "execution_count": 17,
   "metadata": {},
   "outputs": [
    {
     "data": {
      "text/plain": [
       "42"
      ]
     },
     "execution_count": 17,
     "metadata": {},
     "output_type": "execute_result"
    }
   ],
   "source": [
    "module2.name"
   ]
  },
  {
   "cell_type": "code",
   "execution_count": 18,
   "metadata": {},
   "outputs": [
    {
     "data": {
      "text/plain": [
       "'module2'"
      ]
     },
     "execution_count": 18,
     "metadata": {},
     "output_type": "execute_result"
    }
   ],
   "source": [
    "module2.__name__"
   ]
  },
  {
   "cell_type": "code",
   "execution_count": 19,
   "metadata": {},
   "outputs": [
    {
     "data": {
      "text/plain": [
       "<function module2.func()>"
      ]
     },
     "execution_count": 19,
     "metadata": {},
     "output_type": "execute_result"
    }
   ],
   "source": [
    "module2.func"
   ]
  },
  {
   "cell_type": "code",
   "execution_count": 20,
   "metadata": {},
   "outputs": [
    {
     "data": {
      "text/plain": [
       "module2.klass"
      ]
     },
     "execution_count": 20,
     "metadata": {},
     "output_type": "execute_result"
    }
   ],
   "source": [
    "module2.klass"
   ]
  },
  {
   "cell_type": "raw",
   "metadata": {},
   "source": [
    "module2.sys"
   ]
  },
  {
   "cell_type": "markdown",
   "metadata": {},
   "source": [
    "We can access a module’s namespace dictionary through the module’s __dict__ attribute."
   ]
  },
  {
   "cell_type": "code",
   "execution_count": 21,
   "metadata": {},
   "outputs": [
    {
     "data": {
      "text/plain": [
       "['__name__',\n",
       " '__doc__',\n",
       " '__package__',\n",
       " '__loader__',\n",
       " '__spec__',\n",
       " '__file__',\n",
       " '__cached__',\n",
       " '__builtins__',\n",
       " 'sys',\n",
       " 'name',\n",
       " 'func',\n",
       " 'klass']"
      ]
     },
     "execution_count": 21,
     "metadata": {},
     "output_type": "execute_result"
    }
   ],
   "source": [
    "list(module2.__dict__.keys())"
   ]
  },
  {
   "cell_type": "markdown",
   "metadata": {},
   "source": [
    "Python also adds some names in the module’s namespace for us; for instance, __file__ gives the name of the file the module was loaded from, and __name__ gives its name as known to importers (without the .py extension and directory path)."
   ]
  },
  {
   "cell_type": "markdown",
   "metadata": {},
   "source": [
    "**Namespace Nesting**"
   ]
  },
  {
   "cell_type": "raw",
   "metadata": {},
   "source": [
    "# mod3.py\n",
    "X = 3"
   ]
  },
  {
   "cell_type": "raw",
   "metadata": {},
   "source": [
    "# mod2.py\n",
    "X = 2\n",
    "import mod3\n",
    "\n",
    "print(X, end=' ) # My global X\n",
    "print(mod3.X) # mod3's X"
   ]
  },
  {
   "cell_type": "raw",
   "metadata": {},
   "source": [
    "# mod1.py\n",
    "X = 1\n",
    "import mod2\n",
    "\n",
    "print(X, end=' ')         # My global X\n",
    "print(mod2.X, end=' ')    # mod2's X\n",
    "print(mod2.mod3.X)        # Nested mod3's X"
   ]
  },
  {
   "cell_type": "code",
   "execution_count": 22,
   "metadata": {},
   "outputs": [
    {
     "name": "stdout",
     "output_type": "stream",
     "text": [
      "2 3\n",
      "1 2 3\n"
     ]
    }
   ],
   "source": [
    "run mod1.py"
   ]
  },
  {
   "cell_type": "code",
   "execution_count": 23,
   "metadata": {},
   "outputs": [
    {
     "name": "stdout",
     "output_type": "stream",
     "text": [
      "1 2 3\n"
     ]
    }
   ],
   "source": [
    "run mod1.py"
   ]
  },
  {
   "cell_type": "markdown",
   "metadata": {},
   "source": [
    "**Reloading Modules**"
   ]
  },
  {
   "cell_type": "markdown",
   "metadata": {},
   "source": [
    "As we’ve seen, a module’s code is run only once per process by default. To force a module’s code to be reloaded and rerun, you need to ask Python to do so explicitly by calling the reload built-in function."
   ]
  },
  {
   "cell_type": "raw",
   "metadata": {},
   "source": [
    "import module # Initial import\n",
    "\n",
    "# now go and change the module file\n",
    "from imp import reload # get reload itself\n",
    "reload(module) # get updated exports"
   ]
  },
  {
   "cell_type": "raw",
   "metadata": {},
   "source": [
    "# changer.py\n",
    "message = \"First version\"\n",
    "\n",
    "def printer():\n",
    "    print(message)"
   ]
  },
  {
   "cell_type": "code",
   "execution_count": 24,
   "metadata": {},
   "outputs": [],
   "source": [
    "import changer"
   ]
  },
  {
   "cell_type": "code",
   "execution_count": 25,
   "metadata": {},
   "outputs": [
    {
     "name": "stdout",
     "output_type": "stream",
     "text": [
      "First version\n"
     ]
    }
   ],
   "source": [
    "changer.printer()"
   ]
  },
  {
   "cell_type": "raw",
   "metadata": {},
   "source": [
    "# changer.py\n",
    "message = \"After editing\"\n",
    "\n",
    "def printer():\n",
    "    print(message)"
   ]
  },
  {
   "cell_type": "code",
   "execution_count": 26,
   "metadata": {},
   "outputs": [],
   "source": [
    "import changer"
   ]
  },
  {
   "cell_type": "code",
   "execution_count": 27,
   "metadata": {},
   "outputs": [
    {
     "name": "stdout",
     "output_type": "stream",
     "text": [
      "First version\n"
     ]
    }
   ],
   "source": [
    "changer.printer() # No effect: uses loaded module"
   ]
  },
  {
   "cell_type": "code",
   "execution_count": 28,
   "metadata": {},
   "outputs": [],
   "source": [
    "from imp import reload"
   ]
  },
  {
   "cell_type": "code",
   "execution_count": 29,
   "metadata": {},
   "outputs": [
    {
     "data": {
      "text/plain": [
       "<module 'changer' from '/Users/sergulaydore/Documents/courses/EE 551A Fall 2018/lectures/changer.py'>"
      ]
     },
     "execution_count": 29,
     "metadata": {},
     "output_type": "execute_result"
    }
   ],
   "source": [
    "reload(changer) # Forces new code to load/run"
   ]
  },
  {
   "cell_type": "code",
   "execution_count": 30,
   "metadata": {},
   "outputs": [
    {
     "name": "stdout",
     "output_type": "stream",
     "text": [
      "After editing\n"
     ]
    }
   ],
   "source": [
    "changer.printer() # Runs the new version now"
   ]
  },
  {
   "cell_type": "markdown",
   "metadata": {},
   "source": [
    "# Module Packages"
   ]
  },
  {
   "cell_type": "markdown",
   "metadata": {},
   "source": [
    "In addition to a module name, an import can name a directory path. A directory of Python code is said to be a package, so such imports are known as *package imports*."
   ]
  },
  {
   "cell_type": "markdown",
   "metadata": {},
   "source": [
    "At a base level, package imports are straightforward:"
   ]
  },
  {
   "cell_type": "raw",
   "metadata": {},
   "source": [
    "import dir1.dir2.mod"
   ]
  },
  {
   "cell_type": "raw",
   "metadata": {},
   "source": [
    "from dir1.dir2.mod import x"
   ]
  },
  {
   "cell_type": "markdown",
   "metadata": {},
   "source": [
    "These two import statements imply a directory structure that looks something like this:"
   ]
  },
  {
   "cell_type": "markdown",
   "metadata": {},
   "source": [
    "dir0/dir1/dir2/mod.py"
   ]
  },
  {
   "cell_type": "markdown",
   "metadata": {},
   "source": [
    "The container directory dir0 needs to be added to your module search path unless it’s\n",
    "the home directory of the top-level file."
   ]
  },
  {
   "cell_type": "markdown",
   "metadata": {},
   "source": [
    "**Package ``__init__.py`` files**"
   ]
  },
  {
   "cell_type": "markdown",
   "metadata": {},
   "source": [
    "For a directory structure such as this:"
   ]
  },
  {
   "cell_type": "raw",
   "metadata": {},
   "source": [
    "dir0\\dir1\\dir2\\mod.py"
   ]
  },
  {
   "cell_type": "markdown",
   "metadata": {},
   "source": [
    "and an import statement of the form:"
   ]
  },
  {
   "cell_type": "raw",
   "metadata": {},
   "source": [
    "import dir1.dir2.mod"
   ]
  },
  {
   "cell_type": "markdown",
   "metadata": {},
   "source": [
    "the following rules apply:"
   ]
  },
  {
   "cell_type": "markdown",
   "metadata": {},
   "source": [
    "* dir1 and dir2 both must contain an ``__init__.py`` file.\n",
    "\n",
    "* dir0, the container, does not require an ``__init__.py`` file; this file will simply be ignored if present.\n",
    "\n",
    "* dir0, not dir0\\dir1, must be listed on the module search path sys.path."
   ]
  },
  {
   "cell_type": "markdown",
   "metadata": {},
   "source": [
    "The net effect is that this example’s directory structure should be as follows:"
   ]
  },
  {
   "cell_type": "raw",
   "metadata": {},
   "source": [
    "dir0\\ # Container on module search path\n",
    "    dir1\\\n",
    "        __init__.py\n",
    "        dir2\\\n",
    "            __init__.py\n",
    "            mod.py"
   ]
  },
  {
   "cell_type": "markdown",
   "metadata": {},
   "source": [
    "The ``__init__.py`` files can contain Python code, just like normal module files. Their names are special because their code is run automatically the first time a Python program imports a directory, and thus serves primarily as a hook for performing initialization steps required by the package. "
   ]
  },
  {
   "cell_type": "markdown",
   "metadata": {},
   "source": [
    "**Package Import Example**:"
   ]
  },
  {
   "cell_type": "raw",
   "metadata": {},
   "source": [
    "# dir1/__init__.py\n",
    "print('dir1 init') \n",
    "x =1"
   ]
  },
  {
   "cell_type": "raw",
   "metadata": {},
   "source": [
    "# dir1/dir2/__init__.py\n",
    "print('dir2 init') \n",
    "y =2"
   ]
  },
  {
   "cell_type": "raw",
   "metadata": {},
   "source": [
    "# dir1\\dir2\\mod.py\n",
    "print('in mod.py')\n",
    "z =3"
   ]
  },
  {
   "cell_type": "markdown",
   "metadata": {},
   "source": [
    "``import`` statements run each directory’s initialization file the first time that directory is traversed, as Python descends the path; ``print`` statements are included here to trace their execution:"
   ]
  },
  {
   "cell_type": "code",
   "execution_count": 1,
   "metadata": {},
   "outputs": [
    {
     "name": "stdout",
     "output_type": "stream",
     "text": [
      "dir1 init\n",
      "dir2 init\n",
      "in mod.py\n"
     ]
    }
   ],
   "source": [
    "import dir1.dir2.mod # First imports run init files"
   ]
  },
  {
   "cell_type": "code",
   "execution_count": 2,
   "metadata": {},
   "outputs": [],
   "source": [
    "import dir1.dir2.mod # Later imports do not"
   ]
  },
  {
   "cell_type": "markdown",
   "metadata": {},
   "source": [
    "Just like module files, an already imported directory may be passed to reload to force reexecution of that single item. "
   ]
  },
  {
   "cell_type": "code",
   "execution_count": 3,
   "metadata": {},
   "outputs": [],
   "source": [
    "from imp import reload"
   ]
  },
  {
   "cell_type": "code",
   "execution_count": 5,
   "metadata": {},
   "outputs": [
    {
     "name": "stdout",
     "output_type": "stream",
     "text": [
      "dir2 init second attempt\n"
     ]
    },
    {
     "data": {
      "text/plain": [
       "<module 'dir1.dir2' from '/Users/sergulaydore/Documents/courses/EE 551A Fall 2018/lectures/dir1/dir2/__init__.py'>"
      ]
     },
     "execution_count": 5,
     "metadata": {},
     "output_type": "execute_result"
    }
   ],
   "source": [
    "reload(dir1.dir2)"
   ]
  },
  {
   "cell_type": "markdown",
   "metadata": {},
   "source": [
    "Once imported, the path in your import statement becomes a nested object path in your script."
   ]
  },
  {
   "cell_type": "code",
   "execution_count": 6,
   "metadata": {},
   "outputs": [
    {
     "data": {
      "text/plain": [
       "<module 'dir1' from '/Users/sergulaydore/Documents/courses/EE 551A Fall 2018/lectures/dir1/__init__.py'>"
      ]
     },
     "execution_count": 6,
     "metadata": {},
     "output_type": "execute_result"
    }
   ],
   "source": [
    "dir1"
   ]
  },
  {
   "cell_type": "code",
   "execution_count": 7,
   "metadata": {},
   "outputs": [
    {
     "data": {
      "text/plain": [
       "<module 'dir1.dir2' from '/Users/sergulaydore/Documents/courses/EE 551A Fall 2018/lectures/dir1/dir2/__init__.py'>"
      ]
     },
     "execution_count": 7,
     "metadata": {},
     "output_type": "execute_result"
    }
   ],
   "source": [
    "dir1.dir2"
   ]
  },
  {
   "cell_type": "code",
   "execution_count": 8,
   "metadata": {},
   "outputs": [
    {
     "data": {
      "text/plain": [
       "<module 'dir1.dir2.mod' from '/Users/sergulaydore/Documents/courses/EE 551A Fall 2018/lectures/dir1/dir2/mod.py'>"
      ]
     },
     "execution_count": 8,
     "metadata": {},
     "output_type": "execute_result"
    }
   ],
   "source": [
    "dir1.dir2.mod"
   ]
  },
  {
   "cell_type": "code",
   "execution_count": 9,
   "metadata": {},
   "outputs": [
    {
     "data": {
      "text/plain": [
       "1"
      ]
     },
     "execution_count": 9,
     "metadata": {},
     "output_type": "execute_result"
    }
   ],
   "source": [
    "dir1.x"
   ]
  },
  {
   "cell_type": "code",
   "execution_count": 10,
   "metadata": {},
   "outputs": [
    {
     "data": {
      "text/plain": [
       "2"
      ]
     },
     "execution_count": 10,
     "metadata": {},
     "output_type": "execute_result"
    }
   ],
   "source": [
    "dir1.dir2.y"
   ]
  },
  {
   "cell_type": "code",
   "execution_count": 11,
   "metadata": {},
   "outputs": [
    {
     "data": {
      "text/plain": [
       "3"
      ]
     },
     "execution_count": 11,
     "metadata": {},
     "output_type": "execute_result"
    }
   ],
   "source": [
    "dir1.dir2.mod.z"
   ]
  },
  {
   "cell_type": "markdown",
   "metadata": {},
   "source": [
    "**from Versus import with Packages**"
   ]
  },
  {
   "cell_type": "markdown",
   "metadata": {},
   "source": [
    "``import`` statements can be somewhat inconvenient to use with packages, because you may have to retype the paths frequently in your program."
   ]
  },
  {
   "cell_type": "code",
   "execution_count": 12,
   "metadata": {},
   "outputs": [],
   "source": [
    "from dir1.dir2 import mod # Code path here only"
   ]
  },
  {
   "cell_type": "code",
   "execution_count": 13,
   "metadata": {},
   "outputs": [
    {
     "data": {
      "text/plain": [
       "3"
      ]
     },
     "execution_count": 13,
     "metadata": {},
     "output_type": "execute_result"
    }
   ],
   "source": [
    "mod.z # Don't repeat path"
   ]
  },
  {
   "cell_type": "code",
   "execution_count": 14,
   "metadata": {},
   "outputs": [],
   "source": [
    "from dir1.dir2.mod import z"
   ]
  },
  {
   "cell_type": "code",
   "execution_count": 15,
   "metadata": {},
   "outputs": [],
   "source": [
    "import dir1.dir2.mod as mod # Use shorter nam"
   ]
  },
  {
   "cell_type": "code",
   "execution_count": 16,
   "metadata": {},
   "outputs": [],
   "source": [
    "from dir1.dir2.mod import z as modz"
   ]
  },
  {
   "cell_type": "markdown",
   "metadata": {},
   "source": [
    "The only time package imports are actually required is to resolve ambiguities that may arise when multiple programs with same-named files are installed on a single machine."
   ]
  },
  {
   "cell_type": "markdown",
   "metadata": {},
   "source": [
    "Suppose we have:"
   ]
  },
  {
   "cell_type": "raw",
   "metadata": {},
   "source": [
    "system1\\ \n",
    "    utilities.py  # Common utility functions, classes\n",
    "    main.py       # Launch this to start the program\n",
    "    other.py      # Import utilities to load my tools "
   ]
  },
  {
   "cell_type": "raw",
   "metadata": {},
   "source": [
    "Now, suppose that a second programmer develops a different program with files also called utilities.py and main.py."
   ]
  },
  {
   "cell_type": "raw",
   "metadata": {},
   "source": [
    "system2\\\n",
    "    utilities.py   # Common utilities\n",
    "    main.py        # Launch this to run\n",
    "    other.py       # Imports utilities"
   ]
  },
  {
   "cell_type": "markdown",
   "metadata": {},
   "source": [
    "So far, there’s no problem: both systems can coexist and run on the same computer."
   ]
  },
  {
   "cell_type": "markdown",
   "metadata": {},
   "source": [
    "However, suppose that after you’ve installed these two programs on your machine, you decide that you’d like to use some of the code in each of the utilities.py files in a system of your own."
   ]
  },
  {
   "cell_type": "raw",
   "metadata": {},
   "source": [
    "import utilities \n",
    "utilities.func('spam')"
   ]
  },
  {
   "cell_type": "markdown",
   "metadata": {},
   "source": [
    "To make this work at all, you’ll have to set the module search path to include the directories containing the utilities.py files. But which directory do you put first in the path—system1 or system2?"
   ]
  },
  {
   "cell_type": "markdown",
   "metadata": {},
   "source": [
    "This is the issue that packages actually fix. "
   ]
  },
  {
   "cell_type": "raw",
   "metadata": {},
   "source": [
    "root\\ \n",
    "    system1\\\n",
    "        __init__.py \n",
    "        utilities.py \n",
    "        main.py \n",
    "        other.py\n",
    "    system2\\ \n",
    "        __init__.py\n",
    "        utilities.py \n",
    "        main.py \n",
    "        other.py\n",
    "    system3\\ \n",
    "        __init__.py\n",
    "        myfile.py # Your new code here"
   ]
  },
  {
   "cell_type": "markdown",
   "metadata": {},
   "source": [
    "Now, add just the common root directory to your search path."
   ]
  },
  {
   "cell_type": "raw",
   "metadata": {},
   "source": [
    "import system1.utilities\n",
    "import system2.utilities \n",
    "\n",
    "system1.utilities.function('spam') \n",
    "system2.utilities.function('eggs')"
   ]
  },
  {
   "cell_type": "markdown",
   "metadata": {},
   "source": [
    "**Package Relative Imports**"
   ]
  },
  {
   "cell_type": "markdown",
   "metadata": {},
   "source": [
    "Rather than listing package import paths, imports within the package can be relative to the package."
   ]
  },
  {
   "cell_type": "raw",
   "metadata": {},
   "source": [
    "from .string import name1, name2 # Imports names from               mypkg.string\n",
    "from . import string              # Imports mypkg.string\n",
    "from .. import string             # Imports string sibling of mypkg"
   ]
  },
  {
   "cell_type": "markdown",
   "metadata": {},
   "source": [
    "**Why relative imports?**"
   ]
  },
  {
   "cell_type": "markdown",
   "metadata": {},
   "source": [
    "Consider the following package directory:"
   ]
  },
  {
   "cell_type": "raw",
   "metadata": {},
   "source": [
    "mypkg\\\n",
    "    __init__.py\n",
    "    main.py\n",
    "    string.py"
   ]
  },
  {
   "cell_type": "raw",
   "metadata": {},
   "source": [
    "import string # Imports string outside package (absolute)"
   ]
  },
  {
   "cell_type": "raw",
   "metadata": {},
   "source": [
    "from string import name # Imports name from string outside package"
   ]
  },
  {
   "cell_type": "raw",
   "metadata": {},
   "source": [
    "from . import string # Imports mypkg.string here (relative)"
   ]
  },
  {
   "cell_type": "raw",
   "metadata": {},
   "source": [
    "from .string import name1, name2 # Imports names from mypkg.string"
   ]
  },
  {
   "cell_type": "markdown",
   "metadata": {},
   "source": [
    "An additional leading dot performs the relative import starting from the parent of the current package."
   ]
  },
  {
   "cell_type": "raw",
   "metadata": {},
   "source": [
    "from .. import spam # Imports a sibling of mypkg"
   ]
  },
  {
   "cell_type": "markdown",
   "metadata": {},
   "source": [
    "# Advanced Module Topics"
   ]
  },
  {
   "cell_type": "markdown",
   "metadata": {},
   "source": [
    "As a summary, below figure sketches the environment in which modules operate:"
   ]
  },
  {
   "cell_type": "markdown",
   "metadata": {},
   "source": [
    "![alt text](./figures/module_environment.png)"
   ]
  },
  {
   "cell_type": "markdown",
   "metadata": {},
   "source": [
    "As a special case, you can prefix names with a single underscore (e.g., _X) to prevent them from being copied out when a client imports a module’s names with a ``from *``"
   ]
  },
  {
   "cell_type": "raw",
   "metadata": {},
   "source": [
    "# unders.py\n",
    "a, _b, c, _d = 1, 2, 3, 4"
   ]
  },
  {
   "cell_type": "code",
   "execution_count": 19,
   "metadata": {},
   "outputs": [],
   "source": [
    "from unders import * # Load non _X names only"
   ]
  },
  {
   "cell_type": "code",
   "execution_count": 20,
   "metadata": {},
   "outputs": [
    {
     "data": {
      "text/plain": [
       "(1, 3)"
      ]
     },
     "execution_count": 20,
     "metadata": {},
     "output_type": "execute_result"
    }
   ],
   "source": [
    "a, c"
   ]
  },
  {
   "cell_type": "code",
   "execution_count": 21,
   "metadata": {},
   "outputs": [
    {
     "ename": "NameError",
     "evalue": "name '_b' is not defined",
     "output_type": "error",
     "traceback": [
      "\u001b[0;31m---------------------------------------------------------------------------\u001b[0m",
      "\u001b[0;31mNameError\u001b[0m                                 Traceback (most recent call last)",
      "\u001b[0;32m<ipython-input-21-8352e74fe22a>\u001b[0m in \u001b[0;36m<module>\u001b[0;34m()\u001b[0m\n\u001b[0;32m----> 1\u001b[0;31m \u001b[0m_b\u001b[0m\u001b[0;34m\u001b[0m\u001b[0m\n\u001b[0m",
      "\u001b[0;31mNameError\u001b[0m: name '_b' is not defined"
     ]
    }
   ],
   "source": [
    "_b"
   ]
  },
  {
   "cell_type": "code",
   "execution_count": 25,
   "metadata": {},
   "outputs": [],
   "source": [
    "import unders # But other importers get every name"
   ]
  },
  {
   "cell_type": "code",
   "execution_count": 26,
   "metadata": {},
   "outputs": [
    {
     "data": {
      "text/plain": [
       "2"
      ]
     },
     "execution_count": 26,
     "metadata": {},
     "output_type": "execute_result"
    }
   ],
   "source": [
    "unders._b"
   ]
  },
  {
   "cell_type": "markdown",
   "metadata": {},
   "source": [
    "Alternatively, you can achieve a hiding effect similar to the ``_X`` naming convention by assigning a list of variable name strings to the variable ``__all__`` at the top level of the module."
   ]
  },
  {
   "cell_type": "raw",
   "metadata": {},
   "source": [
    "# alls.py\n",
    "__all__ = ['a', '_c'] # __all__ has precedence over _X\n",
    "a, b, _c, _d = 1, 2, 3, 4"
   ]
  },
  {
   "cell_type": "code",
   "execution_count": 27,
   "metadata": {},
   "outputs": [],
   "source": [
    "from alls import *  # Load __all__ names onl"
   ]
  },
  {
   "cell_type": "code",
   "execution_count": 28,
   "metadata": {},
   "outputs": [
    {
     "data": {
      "text/plain": [
       "(1, 3)"
      ]
     },
     "execution_count": 28,
     "metadata": {},
     "output_type": "execute_result"
    }
   ],
   "source": [
    "a, _c"
   ]
  },
  {
   "cell_type": "code",
   "execution_count": 29,
   "metadata": {},
   "outputs": [
    {
     "ename": "NameError",
     "evalue": "name 'b' is not defined",
     "output_type": "error",
     "traceback": [
      "\u001b[0;31m---------------------------------------------------------------------------\u001b[0m",
      "\u001b[0;31mNameError\u001b[0m                                 Traceback (most recent call last)",
      "\u001b[0;32m<ipython-input-29-89e6c98d9288>\u001b[0m in \u001b[0;36m<module>\u001b[0;34m()\u001b[0m\n\u001b[0;32m----> 1\u001b[0;31m \u001b[0mb\u001b[0m\u001b[0;34m\u001b[0m\u001b[0m\n\u001b[0m",
      "\u001b[0;31mNameError\u001b[0m: name 'b' is not defined"
     ]
    }
   ],
   "source": [
    "b"
   ]
  },
  {
   "cell_type": "code",
   "execution_count": 30,
   "metadata": {},
   "outputs": [],
   "source": [
    "from alls import a, b, _c, _d   # But other importers get every name"
   ]
  },
  {
   "cell_type": "code",
   "execution_count": 31,
   "metadata": {},
   "outputs": [
    {
     "data": {
      "text/plain": [
       "(1, 2, 3, 4)"
      ]
     },
     "execution_count": 31,
     "metadata": {},
     "output_type": "execute_result"
    }
   ],
   "source": [
    "a, b, _c, _d"
   ]
  },
  {
   "cell_type": "code",
   "execution_count": 32,
   "metadata": {},
   "outputs": [],
   "source": [
    "import alls"
   ]
  },
  {
   "cell_type": "code",
   "execution_count": 33,
   "metadata": {},
   "outputs": [
    {
     "data": {
      "text/plain": [
       "(1, 2, 3, 4)"
      ]
     },
     "execution_count": 33,
     "metadata": {},
     "output_type": "execute_result"
    }
   ],
   "source": [
    "alls.a, alls.b, alls._c, alls._d"
   ]
  },
  {
   "cell_type": "markdown",
   "metadata": {},
   "source": [
    "**Enabling Future Language Features: __future__**"
   ]
  },
  {
   "cell_type": "raw",
   "metadata": {},
   "source": [
    "from __future__ import featurename"
   ]
  },
  {
   "cell_type": "code",
   "execution_count": 34,
   "metadata": {},
   "outputs": [],
   "source": [
    "from __future__ import division"
   ]
  },
  {
   "cell_type": "markdown",
   "metadata": {},
   "source": [
    "**Mixed Usage Modes: ``__name__`` and ``__main__``**"
   ]
  },
  {
   "cell_type": "markdown",
   "metadata": {},
   "source": [
    "Each module has a built-in attribute called ``__name__``, which Python creates and assigns automatically as follows:"
   ]
  },
  {
   "cell_type": "markdown",
   "metadata": {},
   "source": [
    "* If the file is being run as a top-level program file, ``__name__`` is set to the string \"``__main__``\" when it starts.\n",
    "\n",
    "* If the file is being imported instead, ``__name__`` is set to the module’s name as known by its clients."
   ]
  },
  {
   "cell_type": "raw",
   "metadata": {},
   "source": [
    "# runme.py\n",
    "\n",
    "def tester():\n",
    "    print(\"It's Christmas in Heaven...\")\n",
    "\n",
    "if __name__ == '__main__': # Only when run \n",
    "    tester() # Not when imported\n"
   ]
  },
  {
   "cell_type": "code",
   "execution_count": 35,
   "metadata": {},
   "outputs": [],
   "source": [
    "import runme"
   ]
  },
  {
   "cell_type": "code",
   "execution_count": 40,
   "metadata": {},
   "outputs": [
    {
     "name": "stdout",
     "output_type": "stream",
     "text": [
      "/Users/sergulaydore/Documents/courses/EE 551A Fall 2018/lectures\n"
     ]
    }
   ],
   "source": [
    "cd .."
   ]
  },
  {
   "cell_type": "code",
   "execution_count": 41,
   "metadata": {},
   "outputs": [
    {
     "name": "stdout",
     "output_type": "stream",
     "text": [
      "It's Christmas in Heaven...\n"
     ]
    }
   ],
   "source": [
    "run runme.py"
   ]
  },
  {
   "cell_type": "markdown",
   "metadata": {},
   "source": [
    "**Docstrings: Module Documentation at Work**"
   ]
  },
  {
   "cell_type": "code",
   "execution_count": 42,
   "metadata": {},
   "outputs": [],
   "source": [
    "import permute"
   ]
  },
  {
   "cell_type": "code",
   "execution_count": 43,
   "metadata": {},
   "outputs": [
    {
     "name": "stdout",
     "output_type": "stream",
     "text": [
      "Help on module permute:\n",
      "\n",
      "NAME\n",
      "    permute\n",
      "\n",
      "FUNCTIONS\n",
      "    permute1(seq)\n",
      "    \n",
      "    permute2(seq)\n",
      "\n",
      "FILE\n",
      "    /Users/sergulaydore/Documents/courses/EE 551A Fall 2018/lectures/permute.py\n",
      "\n",
      "\n"
     ]
    }
   ],
   "source": [
    "help(permute)"
   ]
  },
  {
   "cell_type": "code",
   "execution_count": 44,
   "metadata": {},
   "outputs": [
    {
     "data": {
      "text/plain": [
       "<module 'runme' from '/Users/sergulaydore/Documents/courses/EE 551A Fall 2018/lectures/runme.py'>"
      ]
     },
     "execution_count": 44,
     "metadata": {},
     "output_type": "execute_result"
    }
   ],
   "source": [
    "reload(runme)"
   ]
  },
  {
   "cell_type": "code",
   "execution_count": 45,
   "metadata": {},
   "outputs": [
    {
     "name": "stdout",
     "output_type": "stream",
     "text": [
      "Help on module runme:\n",
      "\n",
      "NAME\n",
      "    runme - This is a docstring\n",
      "\n",
      "FUNCTIONS\n",
      "    tester()\n",
      "\n",
      "FILE\n",
      "    /Users/sergulaydore/Documents/courses/EE 551A Fall 2018/lectures/runme.py\n",
      "\n",
      "\n"
     ]
    }
   ],
   "source": [
    "help(runme)"
   ]
  },
  {
   "cell_type": "markdown",
   "metadata": {},
   "source": [
    "**Changing the Module Search Path**"
   ]
  },
  {
   "cell_type": "code",
   "execution_count": 46,
   "metadata": {},
   "outputs": [],
   "source": [
    "import sys"
   ]
  },
  {
   "cell_type": "code",
   "execution_count": 47,
   "metadata": {},
   "outputs": [
    {
     "data": {
      "text/plain": [
       "['',\n",
       " '/Users/sergulaydore/Documents/courses/EE 551A Fall 2018/lectures',\n",
       " '/Users/sergulaydore/.virtualenvs/EE551/lib/python37.zip',\n",
       " '/Users/sergulaydore/.virtualenvs/EE551/lib/python3.7',\n",
       " '/Users/sergulaydore/.virtualenvs/EE551/lib/python3.7/lib-dynload',\n",
       " '/usr/local/Cellar/python/3.7.0/Frameworks/Python.framework/Versions/3.7/lib/python3.7',\n",
       " '/Users/sergulaydore/.virtualenvs/EE551/lib/python3.7/site-packages',\n",
       " '/Users/sergulaydore/Documents/courses/EE 551A Fall 2018/github/homework2-sergulaydore/src',\n",
       " '/Users/sergulaydore/.virtualenvs/EE551/lib/python3.7/site-packages/IPython/extensions',\n",
       " '/Users/sergulaydore/.ipython']"
      ]
     },
     "execution_count": 47,
     "metadata": {},
     "output_type": "execute_result"
    }
   ],
   "source": [
    "sys.path"
   ]
  },
  {
   "cell_type": "code",
   "execution_count": 48,
   "metadata": {},
   "outputs": [],
   "source": [
    "sys.path.append('/Users/sergulaydore/sourcedir') # Extend module search path"
   ]
  },
  {
   "cell_type": "code",
   "execution_count": 49,
   "metadata": {},
   "outputs": [
    {
     "data": {
      "text/plain": [
       "['',\n",
       " '/Users/sergulaydore/Documents/courses/EE 551A Fall 2018/lectures',\n",
       " '/Users/sergulaydore/.virtualenvs/EE551/lib/python37.zip',\n",
       " '/Users/sergulaydore/.virtualenvs/EE551/lib/python3.7',\n",
       " '/Users/sergulaydore/.virtualenvs/EE551/lib/python3.7/lib-dynload',\n",
       " '/usr/local/Cellar/python/3.7.0/Frameworks/Python.framework/Versions/3.7/lib/python3.7',\n",
       " '/Users/sergulaydore/.virtualenvs/EE551/lib/python3.7/site-packages',\n",
       " '/Users/sergulaydore/Documents/courses/EE 551A Fall 2018/github/homework2-sergulaydore/src',\n",
       " '/Users/sergulaydore/.virtualenvs/EE551/lib/python3.7/site-packages/IPython/extensions',\n",
       " '/Users/sergulaydore/.ipython',\n",
       " '/Users/sergulaydore/sourcedir']"
      ]
     },
     "execution_count": 49,
     "metadata": {},
     "output_type": "execute_result"
    }
   ],
   "source": [
    "sys.path"
   ]
  }
 ],
 "metadata": {
  "kernelspec": {
   "display_name": "Python 3",
   "language": "python",
   "name": "python3"
  },
  "language_info": {
   "codemirror_mode": {
    "name": "ipython",
    "version": 3
   },
   "file_extension": ".py",
   "mimetype": "text/x-python",
   "name": "python",
   "nbconvert_exporter": "python",
   "pygments_lexer": "ipython3",
   "version": "3.7.0"
  }
 },
 "nbformat": 4,
 "nbformat_minor": 2
}
